{
 "cells": [
  {
   "cell_type": "markdown",
   "metadata": {
    "tags": []
   },
   "source": [
    "# **机器学习（sklearn应用）笔记**\n",
    "教程链接：\n",
    "- [b 站教程 - 黑马程序员](https://www.bilibili.com/video/BV1nt411r7tj/?p=1&vd_source=6da3a9dd9cab36e4951447ee27dd58bb) ：参考如何使用 sklearn\n",
    "- [SHOMMEAI 教程](https://www.showmeai.tech/tutorials/34?articleId=184)：参考机器学习概念的阐述和算法的详解\n",
    "\n",
    "## **特征工程**\n",
    "### **sklearn 数据集**"
   ]
  },
  {
   "cell_type": "code",
   "execution_count": 1,
   "metadata": {
    "collapsed": false,
    "jupyter": {
     "outputs_hidden": false
    },
    "pycharm": {
     "is_executing": true
    }
   },
   "outputs": [],
   "source": [
    "from sklearn.datasets import load_iris\n",
    "from sklearn.model_selection import train_test_split\n",
    "\n",
    "# 获取鸢尾花数据集\n",
    "iris = load_iris()\n",
    "\n",
    "# 划分数据集 （训练集特征值，测试集特征值，训练集目标值，测试集目标值）\n",
    "x_train, x_test, y_train, y_test = train_test_split(iris.data, iris.target, test_size=0.2,\n",
    "                                                    random_state=22)"
   ]
  },
  {
   "cell_type": "markdown",
   "metadata": {},
   "source": [
    "### **特征抽取**\n",
    "#### **字典特征提取**\n",
    "value 为非数值类型（类别，如下面例子中的 city）时，采用独热编码（一个city变成三个特征）："
   ]
  },
  {
   "cell_type": "code",
   "execution_count": 2,
   "metadata": {
    "collapsed": false,
    "jupyter": {
     "outputs_hidden": false
    }
   },
   "outputs": [
    {
     "name": "stdout",
     "output_type": "stream",
     "text": [
      "特征数据:\n"
     ]
    },
    {
     "data": {
      "text/plain": [
       "array([[  0.,   1.,   0., 100.],\n",
       "       [  1.,   0.,   0.,  60.],\n",
       "       [  0.,   0.,   1.,  30.]])"
      ]
     },
     "execution_count": 2,
     "metadata": {},
     "output_type": "execute_result"
    }
   ],
   "source": [
    "from sklearn.feature_extraction import DictVectorizer\n",
    "\n",
    "# 初始化数据\n",
    "data = [{'city': '北京', 'temperature': 100},\n",
    "        {'city': '上海', 'temperature': 60},\n",
    "        {'city': '深圳', 'temperature': 30}]\n",
    "\n",
    "# 设置转换器，设置返回值格式不是稀疏矩阵\n",
    "transfer = DictVectorizer(sparse=False)\n",
    "\n",
    "# 转换数据\n",
    "new_data = transfer.fit_transform(data)\n",
    "\n",
    "print('特征数据:')\n",
    "new_data"
   ]
  },
  {
   "cell_type": "code",
   "execution_count": 3,
   "metadata": {
    "collapsed": false,
    "jupyter": {
     "outputs_hidden": false
    }
   },
   "outputs": [
    {
     "name": "stdout",
     "output_type": "stream",
     "text": [
      "特征的名字:\n"
     ]
    },
    {
     "data": {
      "text/plain": [
       "array(['city=上海', 'city=北京', 'city=深圳', 'temperature'], dtype=object)"
      ]
     },
     "execution_count": 3,
     "metadata": {},
     "output_type": "execute_result"
    }
   ],
   "source": [
    "print('特征的名字:')\n",
    "transfer.get_feature_names_out()  # 旧版本是 get_feature_names"
   ]
  },
  {
   "cell_type": "markdown",
   "metadata": {
    "tags": []
   },
   "source": [
    "#### **文本特征提取**\n",
    "##### **方法1 CountVectorizer**\n",
    "统计每个样本**特征词**出现的个数（这里单词作为特征词）"
   ]
  },
  {
   "cell_type": "code",
   "execution_count": 4,
   "metadata": {
    "collapsed": false,
    "jupyter": {
     "outputs_hidden": false
    }
   },
   "outputs": [
    {
     "name": "stdout",
     "output_type": "stream",
     "text": [
      "特征数据:\n"
     ]
    },
    {
     "data": {
      "text/plain": [
       "array([[0, 1, 2, 0, 1, 1],\n",
       "       [1, 1, 0, 1, 1, 0]], dtype=int64)"
      ]
     },
     "execution_count": 4,
     "metadata": {},
     "output_type": "execute_result"
    }
   ],
   "source": [
    "from sklearn.feature_extraction.text import CountVectorizer\n",
    "\n",
    "data = [\"life is short,i like like python\",\n",
    "        \"life is too long,i dislike python\"]\n",
    "\n",
    "# 实例化转换器类\n",
    "transfer = CountVectorizer(stop_words=['is', 'too'])  # stop_words 指定停用词\n",
    "\n",
    "# 转换数据\n",
    "new_data = transfer.fit_transform(data)\n",
    "\n",
    "# 输出部分：（由于 CountVectorizer构造方法没有 sparse 参数，可调用 toarray 方法转化成普通矩阵）\n",
    "print('特征数据:')\n",
    "new_data.toarray()"
   ]
  },
  {
   "cell_type": "code",
   "execution_count": 5,
   "metadata": {
    "collapsed": false,
    "jupyter": {
     "outputs_hidden": false
    }
   },
   "outputs": [
    {
     "name": "stdout",
     "output_type": "stream",
     "text": [
      "特征的名字:\n"
     ]
    },
    {
     "data": {
      "text/plain": [
       "array(['dislike', 'life', 'like', 'long', 'python', 'short'], dtype=object)"
      ]
     },
     "execution_count": 5,
     "metadata": {},
     "output_type": "execute_result"
    }
   ],
   "source": [
    "print('特征的名字:')\n",
    "transfer.get_feature_names_out()  # 旧版本是 get_feature_names"
   ]
  },
  {
   "cell_type": "markdown",
   "metadata": {},
   "source": [
    "**中文情况**  \n",
    "特别的，对于**中文**来说，要预先进行**分词**（空格隔开）。  \n",
    "不分词的情况如下："
   ]
  },
  {
   "cell_type": "code",
   "execution_count": 6,
   "metadata": {
    "collapsed": false,
    "jupyter": {
     "outputs_hidden": false
    }
   },
   "outputs": [
    {
     "name": "stdout",
     "output_type": "stream",
     "text": [
      "特征数据:\n"
     ]
    },
    {
     "data": {
      "text/plain": [
       "array([[0, 1],\n",
       "       [1, 0]], dtype=int64)"
      ]
     },
     "execution_count": 6,
     "metadata": {},
     "output_type": "execute_result"
    }
   ],
   "source": [
    "from sklearn.feature_extraction.text import CountVectorizer\n",
    "\n",
    "data = ['这是一条中文的句子', '这也是一条中文的句子']\n",
    "transfer = CountVectorizer()\n",
    "new_data = transfer.fit_transform(data)\n",
    "\n",
    "print('特征数据:')\n",
    "new_data.toarray()"
   ]
  },
  {
   "cell_type": "code",
   "execution_count": 7,
   "metadata": {
    "collapsed": false,
    "jupyter": {
     "outputs_hidden": false
    }
   },
   "outputs": [
    {
     "name": "stdout",
     "output_type": "stream",
     "text": [
      "特征的名字:\n"
     ]
    },
    {
     "data": {
      "text/plain": [
       "array(['这也是一条中文的句子', '这是一条中文的句子'], dtype=object)"
      ]
     },
     "execution_count": 7,
     "metadata": {},
     "output_type": "execute_result"
    }
   ],
   "source": [
    "print('特征的名字:')\n",
    "transfer.get_feature_names_out()  # 旧版本是 get_feature_names"
   ]
  },
  {
   "cell_type": "markdown",
   "metadata": {
    "tags": []
   },
   "source": [
    "使用 jieba 库对中文分词"
   ]
  },
  {
   "cell_type": "code",
   "execution_count": 8,
   "metadata": {
    "collapsed": false,
    "jupyter": {
     "outputs_hidden": false
    }
   },
   "outputs": [
    {
     "name": "stderr",
     "output_type": "stream",
     "text": [
      "Building prefix dict from the default dictionary ...\n",
      "Loading model from cache C:\\Users\\wanqi\\AppData\\Local\\Temp\\jieba.cache\n",
      "Loading model cost 0.697 seconds.\n",
      "Prefix dict has been built successfully.\n"
     ]
    },
    {
     "data": {
      "text/plain": [
       "['一种 还是 一种 今天 很 残酷 ， 明天 更 残酷 ， 后天 很 美好 ， 但 绝对 大部分 是 死 在 明天 晚上 ， 所以 每个 人 不要 放弃 今天 。',\n",
       " '我们 看到 的 从 很 远 星系 来 的 光是在 几百万年 之前 发出 的 ， 这样 当 我们 看到 宇宙 时 ， 我们 是 在 看 它 的 过去 。',\n",
       " '如果 只用 一种 方式 了解 某样 事物 ， 你 就 不会 真正 了解 它 。 了解 事物 真正 含义 的 秘密 取决于 如何 将 其 与 我们 所 了解 的 事物 相 联系 。']"
      ]
     },
     "execution_count": 8,
     "metadata": {},
     "output_type": "execute_result"
    }
   ],
   "source": [
    "import jieba\n",
    "\n",
    "data = [\"一种还是一种今天很残酷，明天更残酷，后天很美好，但绝对大部分是死在明天晚上，所以每个人不要放弃今天。\",\n",
    "        \"我们看到的从很远星系来的光是在几百万年之前发出的，这样当我们看到宇宙时，我们是在看它的过去。\",\n",
    "        \"如果只用一种方式了解某样事物，你就不会真正了解它。了解事物真正含义的秘密取决于如何将其与我们所了解的事物相联系。\"]\n",
    "\n",
    "# print(' '.join(list(jieba.cut(data[0]))))\n",
    "text_list = []\n",
    "for sentence in data:\n",
    "    text_list.append(\n",
    "        ' '.join(list(jieba.cut(sentence)))\n",
    "    )\n",
    "text_list"
   ]
  },
  {
   "cell_type": "markdown",
   "metadata": {
    "tags": []
   },
   "source": [
    "分完词后，后续步骤相同\n",
    "##### **方法2 TfidfVectorizer**\n",
    "思想：某个词或短语在一篇文章中出现的概率高，并且在其他文章中很少出现，则认为此词或者短语具有很好的类别区分能力，适合用来分类。\n",
    "公式：\n",
    "- 词频（term frequency，tf）指的是某一个给定的词语在该文件中出现的频率\n",
    "- 逆向文档频率（inverse document frequency，idf）是一个词语普遍重要性的度量。某一特定词语的idf，可以由总文件数目除以包含该词语之文件的数目，再将得到的商取以10为底的对数得到\n",
    "$$tfidf = tf * idf$$"
   ]
  },
  {
   "cell_type": "code",
   "execution_count": 9,
   "metadata": {
    "collapsed": false,
    "jupyter": {
     "outputs_hidden": false
    }
   },
   "outputs": [
    {
     "name": "stdout",
     "output_type": "stream",
     "text": [
      "特征数据:\n"
     ]
    },
    {
     "data": {
      "text/plain": [
       "array([[0.        , 0.29017021, 0.81564821, 0.        , 0.29017021,\n",
       "        0.4078241 ],\n",
       "       [0.57615236, 0.40993715, 0.        , 0.57615236, 0.40993715,\n",
       "        0.        ]])"
      ]
     },
     "execution_count": 9,
     "metadata": {},
     "output_type": "execute_result"
    }
   ],
   "source": [
    "from sklearn.feature_extraction.text import TfidfVectorizer\n",
    "\n",
    "data = [\"life is short,i like like python\",\n",
    "        \"life is too long,i dislike python\"]\n",
    "\n",
    "# 实例化转换器类\n",
    "transfer = TfidfVectorizer(stop_words=['is', 'too'])  # stop_words 指定停用词\n",
    "\n",
    "# 转换数据\n",
    "new_data = transfer.fit_transform(data)\n",
    "\n",
    "# 输出部分：\n",
    "print('特征数据:')\n",
    "new_data.toarray()"
   ]
  },
  {
   "cell_type": "code",
   "execution_count": 10,
   "metadata": {
    "collapsed": false,
    "jupyter": {
     "outputs_hidden": false
    }
   },
   "outputs": [
    {
     "name": "stdout",
     "output_type": "stream",
     "text": [
      "特征的名字:\n"
     ]
    },
    {
     "data": {
      "text/plain": [
       "array(['dislike', 'life', 'like', 'long', 'python', 'short'], dtype=object)"
      ]
     },
     "execution_count": 10,
     "metadata": {},
     "output_type": "execute_result"
    }
   ],
   "source": [
    "print('特征的名字:')\n",
    "transfer.get_feature_names_out()"
   ]
  },
  {
   "cell_type": "markdown",
   "metadata": {},
   "source": [
    "### **特征预处理**\n",
    "使用归一化/标准化：特征的单位或者大小相差较大，或者某特征的方差相比其他的特征要大出几个数量级，容易影响（支配）目标结果，使得一些算法无法学习到其它的特征\n",
    "#### **方法1 归一化**\n",
    "公式：\n",
    "$$X' = \\frac{X - min}{max - min}, X'' = X' * (mx - mi) + mi$$\n",
    "> 作用于每一列（每个特征），max为一列的最大值，min为一列的最小值。  \n",
    "X''为最终结果，mx，mi分别为要映射到的区间值。默认mx为1,mi为0\n",
    "\n",
    "例子"
   ]
  },
  {
   "cell_type": "code",
   "execution_count": 11,
   "metadata": {
    "collapsed": false,
    "jupyter": {
     "outputs_hidden": false
    }
   },
   "outputs": [
    {
     "data": {
      "text/html": [
       "<div>\n",
       "<style scoped>\n",
       "    .dataframe tbody tr th:only-of-type {\n",
       "        vertical-align: middle;\n",
       "    }\n",
       "\n",
       "    .dataframe tbody tr th {\n",
       "        vertical-align: top;\n",
       "    }\n",
       "\n",
       "    .dataframe thead th {\n",
       "        text-align: right;\n",
       "    }\n",
       "</style>\n",
       "<table border=\"1\" class=\"dataframe\">\n",
       "  <thead>\n",
       "    <tr style=\"text-align: right;\">\n",
       "      <th></th>\n",
       "      <th>milage</th>\n",
       "      <th>Liters</th>\n",
       "      <th>Consumtime</th>\n",
       "    </tr>\n",
       "  </thead>\n",
       "  <tbody>\n",
       "    <tr>\n",
       "      <th>0</th>\n",
       "      <td>40920</td>\n",
       "      <td>8.326976</td>\n",
       "      <td>0.953952</td>\n",
       "    </tr>\n",
       "    <tr>\n",
       "      <th>1</th>\n",
       "      <td>14488</td>\n",
       "      <td>7.153469</td>\n",
       "      <td>1.673904</td>\n",
       "    </tr>\n",
       "    <tr>\n",
       "      <th>2</th>\n",
       "      <td>26052</td>\n",
       "      <td>1.441871</td>\n",
       "      <td>0.805124</td>\n",
       "    </tr>\n",
       "    <tr>\n",
       "      <th>3</th>\n",
       "      <td>75136</td>\n",
       "      <td>13.147394</td>\n",
       "      <td>0.428964</td>\n",
       "    </tr>\n",
       "    <tr>\n",
       "      <th>4</th>\n",
       "      <td>38344</td>\n",
       "      <td>1.669788</td>\n",
       "      <td>0.134296</td>\n",
       "    </tr>\n",
       "  </tbody>\n",
       "</table>\n",
       "</div>"
      ],
      "text/plain": [
       "   milage     Liters  Consumtime\n",
       "0   40920   8.326976    0.953952\n",
       "1   14488   7.153469    1.673904\n",
       "2   26052   1.441871    0.805124\n",
       "3   75136  13.147394    0.428964\n",
       "4   38344   1.669788    0.134296"
      ]
     },
     "execution_count": 11,
     "metadata": {},
     "output_type": "execute_result"
    }
   ],
   "source": [
    "# 从文件读取特征数据\n",
    "import pandas as pd\n",
    "\n",
    "data = pd.read_csv('./machine learning resources/preprocessing.csv')\n",
    "data = data.iloc[:, :3]  # 或 data[['milage','Liters','Consumtime']]\n",
    "data"
   ]
  },
  {
   "cell_type": "code",
   "execution_count": 12,
   "metadata": {
    "collapsed": false,
    "jupyter": {
     "outputs_hidden": false
    }
   },
   "outputs": [
    {
     "name": "stdout",
     "output_type": "stream",
     "text": [
      "特征数据:\n"
     ]
    },
    {
     "data": {
      "text/plain": [
       "array([[ 4.92243767,  6.2937357 ,  5.79141704],\n",
       "       [ 1.        ,  5.39146393, 10.        ],\n",
       "       [ 2.71606648,  1.        ,  4.92142156],\n",
       "       [10.        , 10.        ,  2.72252417],\n",
       "       [ 4.5401662 ,  1.17523805,  1.        ]])"
      ]
     },
     "execution_count": 12,
     "metadata": {},
     "output_type": "execute_result"
    }
   ],
   "source": [
    "# 读取完特征数据后，开始特征预处理\n",
    "from sklearn.preprocessing import MinMaxScaler\n",
    "\n",
    "transfer = MinMaxScaler(feature_range=(1, 10))\n",
    "new_data = transfer.fit_transform(data)\n",
    "print('特征数据:')\n",
    "new_data"
   ]
  },
  {
   "cell_type": "code",
   "execution_count": 13,
   "metadata": {
    "collapsed": false,
    "jupyter": {
     "outputs_hidden": false
    }
   },
   "outputs": [
    {
     "name": "stdout",
     "output_type": "stream",
     "text": [
      "特征的名字:\n"
     ]
    },
    {
     "data": {
      "text/plain": [
       "array(['milage', 'Liters', 'Consumtime'], dtype=object)"
      ]
     },
     "execution_count": 13,
     "metadata": {},
     "output_type": "execute_result"
    }
   ],
   "source": [
    "print('特征的名字:')\n",
    "transfer.get_feature_names_out()"
   ]
  },
  {
   "cell_type": "markdown",
   "metadata": {},
   "source": [
    "特点：很容易收最大值最小值影响，鲁棒性差，只适合传统精确小数据场景"
   ]
  },
  {
   "cell_type": "markdown",
   "metadata": {},
   "source": [
    "#### **方法2 标准化**\n",
    "公式：\n",
    "$$X' = \\frac{x - mean}{\\sigma}$$\n"
   ]
  },
  {
   "cell_type": "code",
   "execution_count": 14,
   "metadata": {
    "collapsed": false,
    "jupyter": {
     "outputs_hidden": false
    }
   },
   "outputs": [
    {
     "name": "stdout",
     "output_type": "stream",
     "text": [
      "特征数据:\n"
     ]
    },
    {
     "data": {
      "text/plain": [
       "array([[ 0.0947602 ,  0.44990013,  0.29573441],\n",
       "       [-1.20166916,  0.18312874,  1.67200507],\n",
       "       [-0.63448132, -1.11527928,  0.01123265],\n",
       "       [ 1.77297701,  1.54571769, -0.70784025],\n",
       "       [-0.03158673, -1.06346729, -1.27113187]])"
      ]
     },
     "execution_count": 14,
     "metadata": {},
     "output_type": "execute_result"
    }
   ],
   "source": [
    "# data 用上面归一化处理前得到的 data\n",
    "from sklearn.preprocessing import StandardScaler\n",
    "\n",
    "transfer = StandardScaler()\n",
    "new_data = transfer.fit_transform(data)\n",
    "print('特征数据:')\n",
    "new_data"
   ]
  },
  {
   "cell_type": "code",
   "execution_count": 15,
   "metadata": {
    "collapsed": false,
    "jupyter": {
     "outputs_hidden": false
    }
   },
   "outputs": [
    {
     "name": "stdout",
     "output_type": "stream",
     "text": [
      "特征的名字:\n"
     ]
    },
    {
     "data": {
      "text/plain": [
       "array(['milage', 'Liters', 'Consumtime'], dtype=object)"
      ]
     },
     "execution_count": 15,
     "metadata": {},
     "output_type": "execute_result"
    }
   ],
   "source": [
    "print('特征的名字:')\n",
    "transfer.get_feature_names_out()"
   ]
  },
  {
   "cell_type": "markdown",
   "metadata": {},
   "source": [
    "### **特征降维**\n",
    "降低特征个数，得到一组不相关的主变量（要求特征不相关）\n",
    "> 相关特征：如相对湿度和降雨量\n",
    "\n",
    "降维的两种方式：特征选择、主成分分析\n",
    "#### **特征选择**\n",
    "Filter（过滤式）：主要探究特征本身特点、特征与特征和目标值之间关联\n",
    "- 方差选择法：低方差特征过滤\n",
    "- 相关系数\n",
    "\n",
    "Embedded （嵌入式）：算法自动选择特征（特征与目标值之间的关联）\n",
    "- 决策树：信息熵、信息增益\n",
    "- 正则化：L1、L2\n",
    "- 深度学习：卷积等\n",
    "\n",
    "##### **过滤式**\n",
    "**低方差特征过滤**"
   ]
  },
  {
   "cell_type": "code",
   "execution_count": 16,
   "metadata": {
    "collapsed": false,
    "jupyter": {
     "outputs_hidden": false
    }
   },
   "outputs": [
    {
     "name": "stdout",
     "output_type": "stream",
     "text": [
      "特征数: 10\n"
     ]
    },
    {
     "data": {
      "text/html": [
       "<div>\n",
       "<style scoped>\n",
       "    .dataframe tbody tr th:only-of-type {\n",
       "        vertical-align: middle;\n",
       "    }\n",
       "\n",
       "    .dataframe tbody tr th {\n",
       "        vertical-align: top;\n",
       "    }\n",
       "\n",
       "    .dataframe thead th {\n",
       "        text-align: right;\n",
       "    }\n",
       "</style>\n",
       "<table border=\"1\" class=\"dataframe\">\n",
       "  <thead>\n",
       "    <tr style=\"text-align: right;\">\n",
       "      <th></th>\n",
       "      <th>pe_ratio</th>\n",
       "      <th>pb_ratio</th>\n",
       "      <th>market_cap</th>\n",
       "      <th>return_on_asset_net_profit</th>\n",
       "      <th>du_return_on_equity</th>\n",
       "      <th>ev</th>\n",
       "      <th>earnings_per_share</th>\n",
       "      <th>revenue</th>\n",
       "      <th>total_expense</th>\n",
       "      <th>date</th>\n",
       "    </tr>\n",
       "  </thead>\n",
       "  <tbody>\n",
       "    <tr>\n",
       "      <th>0</th>\n",
       "      <td>5.8753</td>\n",
       "      <td>5.9572</td>\n",
       "      <td>1.1818</td>\n",
       "      <td>8.525255e+10</td>\n",
       "      <td>0.8008</td>\n",
       "      <td>14.9403</td>\n",
       "      <td>1.211445e+12</td>\n",
       "      <td>2.010</td>\n",
       "      <td>2.070140e+10</td>\n",
       "      <td>1.088254e+10</td>\n",
       "    </tr>\n",
       "    <tr>\n",
       "      <th>1</th>\n",
       "      <td>7.0560</td>\n",
       "      <td>7.0289</td>\n",
       "      <td>1.5880</td>\n",
       "      <td>8.411336e+10</td>\n",
       "      <td>1.6463</td>\n",
       "      <td>7.8656</td>\n",
       "      <td>3.002521e+11</td>\n",
       "      <td>0.326</td>\n",
       "      <td>2.930837e+10</td>\n",
       "      <td>2.378348e+10</td>\n",
       "    </tr>\n",
       "    <tr>\n",
       "      <th>2</th>\n",
       "      <td>-262.7461</td>\n",
       "      <td>-262.7461</td>\n",
       "      <td>7.0003</td>\n",
       "      <td>5.170455e+08</td>\n",
       "      <td>-0.5678</td>\n",
       "      <td>-0.5943</td>\n",
       "      <td>7.705178e+08</td>\n",
       "      <td>-0.006</td>\n",
       "      <td>1.167983e+07</td>\n",
       "      <td>1.203008e+07</td>\n",
       "    </tr>\n",
       "    <tr>\n",
       "      <th>3</th>\n",
       "      <td>16.4761</td>\n",
       "      <td>16.4760</td>\n",
       "      <td>3.7146</td>\n",
       "      <td>1.968046e+10</td>\n",
       "      <td>5.6036</td>\n",
       "      <td>14.6170</td>\n",
       "      <td>2.800916e+10</td>\n",
       "      <td>0.350</td>\n",
       "      <td>9.189387e+09</td>\n",
       "      <td>7.935543e+09</td>\n",
       "    </tr>\n",
       "    <tr>\n",
       "      <th>4</th>\n",
       "      <td>12.5877</td>\n",
       "      <td>12.5878</td>\n",
       "      <td>2.5616</td>\n",
       "      <td>4.172721e+10</td>\n",
       "      <td>2.8729</td>\n",
       "      <td>10.9097</td>\n",
       "      <td>8.124738e+10</td>\n",
       "      <td>0.271</td>\n",
       "      <td>8.951453e+09</td>\n",
       "      <td>7.091398e+09</td>\n",
       "    </tr>\n",
       "  </tbody>\n",
       "</table>\n",
       "</div>"
      ],
      "text/plain": [
       "   pe_ratio  pb_ratio  market_cap  return_on_asset_net_profit  \\\n",
       "0    5.8753    5.9572      1.1818                8.525255e+10   \n",
       "1    7.0560    7.0289      1.5880                8.411336e+10   \n",
       "2 -262.7461 -262.7461      7.0003                5.170455e+08   \n",
       "3   16.4761   16.4760      3.7146                1.968046e+10   \n",
       "4   12.5877   12.5878      2.5616                4.172721e+10   \n",
       "\n",
       "   du_return_on_equity       ev  earnings_per_share  revenue  total_expense  \\\n",
       "0               0.8008  14.9403        1.211445e+12    2.010   2.070140e+10   \n",
       "1               1.6463   7.8656        3.002521e+11    0.326   2.930837e+10   \n",
       "2              -0.5678  -0.5943        7.705178e+08   -0.006   1.167983e+07   \n",
       "3               5.6036  14.6170        2.800916e+10    0.350   9.189387e+09   \n",
       "4               2.8729  10.9097        8.124738e+10    0.271   8.951453e+09   \n",
       "\n",
       "           date  \n",
       "0  1.088254e+10  \n",
       "1  2.378348e+10  \n",
       "2  1.203008e+07  \n",
       "3  7.935543e+09  \n",
       "4  7.091398e+09  "
      ]
     },
     "execution_count": 16,
     "metadata": {},
     "output_type": "execute_result"
    }
   ],
   "source": [
    "# 读取数据\n",
    "import pandas as pd\n",
    "\n",
    "data = pd.read_csv('machine learning resources/variance.csv')\n",
    "data = data.iloc[:, 1:-2]  # 所有行，第1列和最后三列不要\n",
    "print('特征数:', data.shape[1])\n",
    "data"
   ]
  },
  {
   "cell_type": "code",
   "execution_count": 17,
   "metadata": {
    "collapsed": false,
    "jupyter": {
     "outputs_hidden": false
    }
   },
   "outputs": [
    {
     "name": "stdout",
     "output_type": "stream",
     "text": [
      "特征数: 7\n"
     ]
    },
    {
     "data": {
      "text/plain": [
       "array([[ 5.87530000e+00,  5.95720000e+00,  8.52525509e+10,\n",
       "         1.49403000e+01,  1.21144486e+12,  2.07014010e+10,\n",
       "         1.08825400e+10],\n",
       "       [ 7.05600000e+00,  7.02890000e+00,  8.41133582e+10,\n",
       "         7.86560000e+00,  3.00252062e+11,  2.93083692e+10,\n",
       "         2.37834769e+10],\n",
       "       [-2.62746100e+02, -2.62746100e+02,  5.17045520e+08,\n",
       "        -5.94300000e-01,  7.70517753e+08,  1.16798290e+07,\n",
       "         1.20300800e+07],\n",
       "       [ 1.64761000e+01,  1.64760000e+01,  1.96804560e+10,\n",
       "         1.46170000e+01,  2.80091592e+10,  9.18938688e+09,\n",
       "         7.93554273e+09],\n",
       "       [ 1.25877000e+01,  1.25878000e+01,  4.17272149e+10,\n",
       "         1.09097000e+01,  8.12473804e+10,  8.95145349e+09,\n",
       "         7.09139799e+09]])"
      ]
     },
     "execution_count": 17,
     "metadata": {},
     "output_type": "execute_result"
    }
   ],
   "source": [
    "from sklearn.feature_selection import VarianceThreshold\n",
    "\n",
    "# variance: 方差, threshold: 阈值\n",
    "transfer = VarianceThreshold(threshold=10)  # 方差阈值为 1\n",
    "new_data = transfer.fit_transform(data)\n",
    "print('特征数:', new_data.shape[1])\n",
    "new_data"
   ]
  },
  {
   "cell_type": "markdown",
   "metadata": {},
   "source": [
    "**相关系数**\n",
    "检查相关性：求相关系数或画图\n",
    "相关系数大那些特征处理方法：\n",
    "- 选择其中一个\n",
    "- 求他们的加权平均数（转化成新的特征）\n",
    "- 主成分分析法：自动解决这个问题"
   ]
  },
  {
   "cell_type": "code",
   "execution_count": 18,
   "metadata": {
    "collapsed": false,
    "jupyter": {
     "outputs_hidden": false
    }
   },
   "outputs": [
    {
     "data": {
      "text/plain": [
       "PearsonRResult(statistic=0.9999999438318399, pvalue=1.5979719472514354e-11)"
      ]
     },
     "execution_count": 18,
     "metadata": {},
     "output_type": "execute_result"
    }
   ],
   "source": [
    "# 求相关系数\n",
    "from scipy.stats import pearsonr  # 皮尔逊相关系数\n",
    "\n",
    "r = pearsonr(data['pe_ratio'], data['pb_ratio'])\n",
    "r"
   ]
  },
  {
   "cell_type": "code",
   "execution_count": 19,
   "metadata": {
    "collapsed": false,
    "jupyter": {
     "outputs_hidden": false
    }
   },
   "outputs": [
    {
     "data": {
      "text/plain": [
       "<matplotlib.collections.PathCollection at 0x21bc5a91c10>"
      ]
     },
     "execution_count": 19,
     "metadata": {},
     "output_type": "execute_result"
    },
    {
     "data": {
      "image/png": "[encoded data removed]",
      "text/plain": [
       "<Figure size 900x360 with 1 Axes>"
      ]
     },
     "metadata": {},
     "output_type": "display_data"
    }
   ],
   "source": [
    "# 画图\n",
    "import matplotlib.pyplot as plt\n",
    "\n",
    "# %matplotlib inline\n",
    "\n",
    "plt.figure(figsize=(10, 4), dpi=90)\n",
    "plt.scatter(data['pe_ratio'], data['pb_ratio'])"
   ]
  },
  {
   "cell_type": "markdown",
   "metadata": {},
   "source": [
    "#### **主成分分析**\n",
    "- 定义：高维数据转化为低维数据的过程，在此过程中可能会舍弃原有数据、创造新的变量\n",
    "- 作用：是数据维数压缩，尽可能降低原数据的维数（复杂度），损失少量信息。\n",
    "- 应用：回归分析或者聚类分析当中"
   ]
  },
  {
   "cell_type": "code",
   "execution_count": 20,
   "metadata": {
    "collapsed": false,
    "jupyter": {
     "outputs_hidden": false
    }
   },
   "outputs": [
    {
     "data": {
      "text/plain": [
       "array([[ 1.28620952e-15,  3.82970843e+00],\n",
       "       [ 5.74456265e+00, -1.91485422e+00],\n",
       "       [-5.74456265e+00, -1.91485422e+00]])"
      ]
     },
     "execution_count": 20,
     "metadata": {},
     "output_type": "execute_result"
    }
   ],
   "source": [
    "from sklearn.decomposition import PCA\n",
    "\n",
    "data = [[2, 8, 4, 5],\n",
    "        [6, 3, 0, 8],\n",
    "        [5, 4, 9, 1]]\n",
    "transfer = PCA(n_components=2)\n",
    "\"\"\"\n",
    "n_components:\n",
    "  - 小数：表示保留百分之多少的信息\n",
    "  - 整数：减少到多少特征\n",
    "\"\"\"\n",
    "new_data = transfer.fit_transform(data)\n",
    "new_data"
   ]
  },
  {
   "cell_type": "markdown",
   "metadata": {},
   "source": [
    "## **分类算法**\n",
    "### **sklearn 转换器与估计器**\n",
    "转换器：特征工程的父类\n",
    "- `fit()`: 求得训练集X的均值，方差，最大值，最小值\n",
    "- `transform()`: 在fit的基础上，进行标准化，降维，归一化等操作\n",
    "- `fit_transform()`: fit_transform是fit和transform的组合，既包括了训练又包含了转换\n",
    "\n",
    "<img src=\"./machine learning resources/transformer.png\" style=\"zoom: 40%;\">\n",
    "\n",
    "估计器：用来实现 sklearn 机器学习算法，是一类实现了算法的 API\n",
    "- `estimator.fit(x_train, y_train)`: 计算；调用完毕后模型生成\n",
    "- 模型评估（在测试集上）：\n",
    "  - `predict()`: 求出预测值  `y_predict = estimator.predict(x_test)`, 比较 y_predict 与 y_test\n",
    "  - `score()`: 计算准确率  `accuracy = estimator.score(x_test, y_test)`\n",
    "\n",
    "<img src=\"./machine learning resources/estimator.png\" style=\"zoom: 50%;\">\n"
   ]
  },
  {
   "cell_type": "markdown",
   "metadata": {
    "tags": []
   },
   "source": [
    "### **K-近邻算法（KNN）**\n",
    "- 定义\n",
    "  - 如果一个样本在特征空间中的**k个最相似**(即特征空间中最邻近，距离最短)的样本中的大多数属于某一个类别，则该样本也属于这个类别。\n",
    "  - k 值取得过小：容易受异常值干扰\n",
    "  - k 值取得过大：容易受样本不均匀影响\n",
    "- 距离\n",
    "  - 欧氏距离（平方根）、曼哈顿距离（绝对值和）、明可夫斯基距离\n",
    "\n",
    "例子：用 KNN 算法对鸢尾花分类"
   ]
  },
  {
   "cell_type": "code",
   "execution_count": 21,
   "metadata": {
    "collapsed": false,
    "jupyter": {
     "outputs_hidden": false
    }
   },
   "outputs": [
    {
     "name": "stdout",
     "output_type": "stream",
     "text": [
      "y_predict:\n"
     ]
    },
    {
     "data": {
      "text/plain": [
       "array([0, 2, 0, 0, 2, 1, 1, 0, 2, 1, 2, 1, 2, 2, 1, 1, 2, 1, 1, 0, 0, 2,\n",
       "       0, 0, 1, 2, 1, 2, 0, 1])"
      ]
     },
     "execution_count": 21,
     "metadata": {},
     "output_type": "execute_result"
    }
   ],
   "source": [
    "from sklearn.datasets import load_iris\n",
    "from sklearn.model_selection import train_test_split\n",
    "from sklearn.preprocessing import StandardScaler\n",
    "from sklearn.neighbors import KNeighborsClassifier\n",
    "\n",
    "# 获取数据\n",
    "iris = load_iris()\n",
    "\n",
    "# 划分数据集\n",
    "x_train, x_test, y_train, y_test = train_test_split(iris.data, iris.target, test_size=0.2, random_state=6)\n",
    "\n",
    "# 特征工程：标准化\n",
    "transfer = StandardScaler()\n",
    "x_train = transfer.fit_transform(x_train)\n",
    "x_test = transfer.transform(x_test)  # !!!测试集用训练集的均值和标准差处理\n",
    "\n",
    "# KNN 算法预估器\n",
    "\"\"\"\n",
    "下面 p 和 metric 取的都是默认值，可以省略；\n",
    "p = 2, metric = 'minkowski' => 欧氏距离\n",
    "p = 1, metric = 'minkowski' => 曼哈顿距离\n",
    "\"\"\"\n",
    "estimator = KNeighborsClassifier(n_neighbors=3, p=2, metric=\"minkowski\")  # k = 3\n",
    "estimator.fit(x_train, y_train)\n",
    "\n",
    "# 模型评估\n",
    "## 方法 1：直接比对真实值和预测值\n",
    "print(\"y_predict:\")\n",
    "y_predict = estimator.predict(x_test)\n",
    "y_predict"
   ]
  },
  {
   "cell_type": "code",
   "execution_count": 22,
   "metadata": {
    "collapsed": false,
    "jupyter": {
     "outputs_hidden": false
    }
   },
   "outputs": [
    {
     "name": "stdout",
     "output_type": "stream",
     "text": [
      "y_test:\n"
     ]
    },
    {
     "data": {
      "text/plain": [
       "array([0, 2, 0, 0, 2, 1, 2, 0, 2, 1, 2, 1, 2, 2, 1, 2, 2, 1, 1, 0, 0, 2,\n",
       "       0, 0, 1, 1, 1, 2, 0, 1])"
      ]
     },
     "execution_count": 22,
     "metadata": {},
     "output_type": "execute_result"
    }
   ],
   "source": [
    "print(\"y_test:\")\n",
    "y_test"
   ]
  },
  {
   "cell_type": "code",
   "execution_count": 23,
   "metadata": {},
   "outputs": [
    {
     "data": {
      "text/plain": [
       "array([ True,  True,  True,  True,  True,  True, False,  True,  True,\n",
       "        True,  True,  True,  True,  True,  True, False,  True,  True,\n",
       "        True,  True,  True,  True,  True,  True,  True, False,  True,\n",
       "        True,  True,  True])"
      ]
     },
     "execution_count": 23,
     "metadata": {},
     "output_type": "execute_result"
    }
   ],
   "source": [
    "y_predict == y_test  # numpy.array 的比较"
   ]
  },
  {
   "cell_type": "code",
   "execution_count": 24,
   "metadata": {
    "collapsed": false,
    "jupyter": {
     "outputs_hidden": false
    }
   },
   "outputs": [
    {
     "name": "stdout",
     "output_type": "stream",
     "text": [
      "准确率:\n"
     ]
    },
    {
     "data": {
      "text/plain": [
       "0.9"
      ]
     },
     "execution_count": 24,
     "metadata": {},
     "output_type": "execute_result"
    }
   ],
   "source": [
    "## 方法 2：计算准确率\n",
    "print(\"准确率:\")\n",
    "estimator.score(x_test, y_test)"
   ]
  },
  {
   "cell_type": "markdown",
   "metadata": {},
   "source": [
    "KNN 算法总结：\n",
    "- 优点：\n",
    "  - 简单，易于理解，易于实现，无需训练\n",
    "- 缺点：\n",
    "  - 懒惰算法，对测试样本分类时的计算量大，内存开销大\n",
    "  - 必须指定K值，K值选择不当则分类精度不能保证\n",
    "\n",
    "### **模型选择与调优**\n",
    "#### **交叉验证**\n",
    "补：[训练集 验证集 测试集](https://zhuanlan.zhihu.com/p/48976706)\n",
    "四折交叉验证例：\n",
    "\n",
    "<img src=\"./machine learning resources/cross-validation.png\" style=\"zoom: 35%;\">\n",
    "\n",
    "#### **超参数搜索-网格搜索(Grid Search)**\n",
    "超参数：需要手动指定的（如k-近邻算法中的K值）  \n",
    "网格搜索：对模型预设几种超参数组合，每组超参数都采用交叉验证来进行评估，最后选出最优参数组合建立模型。\n",
    "\n",
    "例子：用 KNN 算法对鸢尾花分类，添加网格搜索和交叉验证"
   ]
  },
  {
   "cell_type": "code",
   "execution_count": 25,
   "metadata": {
    "collapsed": false,
    "jupyter": {
     "outputs_hidden": false
    }
   },
   "outputs": [
    {
     "name": "stdout",
     "output_type": "stream",
     "text": [
      "y_predict:\n"
     ]
    },
    {
     "data": {
      "text/plain": [
       "array([0, 2, 0, 0, 2, 1, 2, 0, 2, 1, 2, 1, 2, 2, 1, 1, 2, 1, 1, 0, 0, 2,\n",
       "       0, 0, 1, 1, 1, 2, 0, 1])"
      ]
     },
     "execution_count": 25,
     "metadata": {},
     "output_type": "execute_result"
    }
   ],
   "source": [
    "from sklearn.datasets import load_iris\n",
    "from sklearn.model_selection import train_test_split\n",
    "from sklearn.preprocessing import StandardScaler\n",
    "from sklearn.neighbors import KNeighborsClassifier\n",
    "from sklearn.model_selection import GridSearchCV  # CV: Cross Validation\n",
    "\n",
    "# 获取数据\n",
    "iris = load_iris()\n",
    "\n",
    "# 划分数据集\n",
    "x_train, x_test, y_train, y_test = train_test_split(iris.data, iris.target, test_size=0.2, random_state=6)\n",
    "\n",
    "# 特征工程：标准化\n",
    "transfer = StandardScaler()\n",
    "x_train = transfer.fit_transform(x_train)\n",
    "x_test = transfer.transform(x_test)  # !!!测试集用训练集的均值和标准差处理\n",
    "\n",
    "# KNN 算法预估器\n",
    "estimator = KNeighborsClassifier(n_neighbors=3, p=2, metric=\"minkowski\")  # k = 3\n",
    "\n",
    "\"\"\"加入网格搜索与交叉验证\"\"\"\n",
    "param_dict = {\"n_neighbors\": list(range(4, 8))}  # 要传入的超参数，以字典形式传入\n",
    "estimator = GridSearchCV(estimator=estimator, param_grid=param_dict, cv=10)  # 10 折交叉验证\n",
    "estimator.fit(x_train, y_train)\n",
    "\n",
    "# 模型评估\n",
    "## 方法 1：直接比对真实值和预测值\n",
    "print(\"y_predict:\")\n",
    "y_predict = estimator.predict(x_test)\n",
    "y_predict"
   ]
  },
  {
   "cell_type": "code",
   "execution_count": 26,
   "metadata": {},
   "outputs": [
    {
     "name": "stdout",
     "output_type": "stream",
     "text": [
      "y_test:\n"
     ]
    },
    {
     "data": {
      "text/plain": [
       "array([0, 2, 0, 0, 2, 1, 2, 0, 2, 1, 2, 1, 2, 2, 1, 2, 2, 1, 1, 0, 0, 2,\n",
       "       0, 0, 1, 1, 1, 2, 0, 1])"
      ]
     },
     "execution_count": 26,
     "metadata": {},
     "output_type": "execute_result"
    }
   ],
   "source": [
    "print(\"y_test:\")\n",
    "y_test"
   ]
  },
  {
   "cell_type": "code",
   "execution_count": 27,
   "metadata": {},
   "outputs": [
    {
     "data": {
      "text/plain": [
       "array([ True,  True,  True,  True,  True,  True,  True,  True,  True,\n",
       "        True,  True,  True,  True,  True,  True, False,  True,  True,\n",
       "        True,  True,  True,  True,  True,  True,  True,  True,  True,\n",
       "        True,  True,  True])"
      ]
     },
     "execution_count": 27,
     "metadata": {},
     "output_type": "execute_result"
    }
   ],
   "source": [
    "y_predict == y_test  # numpy.array 的比较"
   ]
  },
  {
   "cell_type": "code",
   "execution_count": 28,
   "metadata": {},
   "outputs": [
    {
     "name": "stdout",
     "output_type": "stream",
     "text": [
      "准确率（在测试集中的效果）:\n"
     ]
    },
    {
     "data": {
      "text/plain": [
       "0.9666666666666667"
      ]
     },
     "execution_count": 28,
     "metadata": {},
     "output_type": "execute_result"
    }
   ],
   "source": [
    "## 方法 2：计算准确率\n",
    "print(\"准确率（在测试集中的效果）:\")\n",
    "estimator.score(x_test, y_test)"
   ]
  },
  {
   "cell_type": "code",
   "execution_count": 29,
   "metadata": {},
   "outputs": [
    {
     "name": "stdout",
     "output_type": "stream",
     "text": [
      "最佳参数:\n"
     ]
    },
    {
     "data": {
      "text/plain": [
       "{'n_neighbors': 6}"
      ]
     },
     "execution_count": 29,
     "metadata": {},
     "output_type": "execute_result"
    }
   ],
   "source": [
    "\"\"\"训练验证集的结果\"\"\"\n",
    "# 最佳参数\n",
    "print(\"最佳参数:\")\n",
    "estimator.best_params_"
   ]
  },
  {
   "cell_type": "code",
   "execution_count": 30,
   "metadata": {},
   "outputs": [
    {
     "name": "stdout",
     "output_type": "stream",
     "text": [
      "最佳结果（在验证集中的结果）:\n"
     ]
    },
    {
     "data": {
      "text/plain": [
       "0.9666666666666666"
      ]
     },
     "execution_count": 30,
     "metadata": {},
     "output_type": "execute_result"
    }
   ],
   "source": [
    "# 最佳结果\n",
    "print(\"最佳结果（在验证集中的结果）:\")\n",
    "estimator.best_score_"
   ]
  },
  {
   "cell_type": "code",
   "execution_count": 31,
   "metadata": {},
   "outputs": [
    {
     "name": "stdout",
     "output_type": "stream",
     "text": [
      "最佳估计器:\n"
     ]
    },
    {
     "data": {
      "text/html": [
       "<style>#sk-container-id-1 {color: black;background-color: white;}#sk-container-id-1 pre{padding: 0;}#sk-container-id-1 div.sk-toggleable {background-color: white;}#sk-container-id-1 label.sk-toggleable__label {cursor: pointer;display: block;width: 100%;margin-bottom: 0;padding: 0.3em;box-sizing: border-box;text-align: center;}#sk-container-id-1 label.sk-toggleable__label-arrow:before {content: \"▸\";float: left;margin-right: 0.25em;color: #696969;}#sk-container-id-1 label.sk-toggleable__label-arrow:hover:before {color: black;}#sk-container-id-1 div.sk-estimator:hover label.sk-toggleable__label-arrow:before {color: black;}#sk-container-id-1 div.sk-toggleable__content {max-height: 0;max-width: 0;overflow: hidden;text-align: left;background-color: #f0f8ff;}#sk-container-id-1 div.sk-toggleable__content pre {margin: 0.2em;color: black;border-radius: 0.25em;background-color: #f0f8ff;}#sk-container-id-1 input.sk-toggleable__control:checked~div.sk-toggleable__content {max-height: 200px;max-width: 100%;overflow: auto;}#sk-container-id-1 input.sk-toggleable__control:checked~label.sk-toggleable__label-arrow:before {content: \"▾\";}#sk-container-id-1 div.sk-estimator input.sk-toggleable__control:checked~label.sk-toggleable__label {background-color: #d4ebff;}#sk-container-id-1 div.sk-label input.sk-toggleable__control:checked~label.sk-toggleable__label {background-color: #d4ebff;}#sk-container-id-1 input.sk-hidden--visually {border: 0;clip: rect(1px 1px 1px 1px);clip: rect(1px, 1px, 1px, 1px);height: 1px;margin: -1px;overflow: hidden;padding: 0;position: absolute;width: 1px;}#sk-container-id-1 div.sk-estimator {font-family: monospace;background-color: #f0f8ff;border: 1px dotted black;border-radius: 0.25em;box-sizing: border-box;margin-bottom: 0.5em;}#sk-container-id-1 div.sk-estimator:hover {background-color: #d4ebff;}#sk-container-id-1 div.sk-parallel-item::after {content: \"\";width: 100%;border-bottom: 1px solid gray;flex-grow: 1;}#sk-container-id-1 div.sk-label:hover label.sk-toggleable__label {background-color: #d4ebff;}#sk-container-id-1 div.sk-serial::before {content: \"\";position: absolute;border-left: 1px solid gray;box-sizing: border-box;top: 0;bottom: 0;left: 50%;z-index: 0;}#sk-container-id-1 div.sk-serial {display: flex;flex-direction: column;align-items: center;background-color: white;padding-right: 0.2em;padding-left: 0.2em;position: relative;}#sk-container-id-1 div.sk-item {position: relative;z-index: 1;}#sk-container-id-1 div.sk-parallel {display: flex;align-items: stretch;justify-content: center;background-color: white;position: relative;}#sk-container-id-1 div.sk-item::before, #sk-container-id-1 div.sk-parallel-item::before {content: \"\";position: absolute;border-left: 1px solid gray;box-sizing: border-box;top: 0;bottom: 0;left: 50%;z-index: -1;}#sk-container-id-1 div.sk-parallel-item {display: flex;flex-direction: column;z-index: 1;position: relative;background-color: white;}#sk-container-id-1 div.sk-parallel-item:first-child::after {align-self: flex-end;width: 50%;}#sk-container-id-1 div.sk-parallel-item:last-child::after {align-self: flex-start;width: 50%;}#sk-container-id-1 div.sk-parallel-item:only-child::after {width: 0;}#sk-container-id-1 div.sk-dashed-wrapped {border: 1px dashed gray;margin: 0 0.4em 0.5em 0.4em;box-sizing: border-box;padding-bottom: 0.4em;background-color: white;}#sk-container-id-1 div.sk-label label {font-family: monospace;font-weight: bold;display: inline-block;line-height: 1.2em;}#sk-container-id-1 div.sk-label-container {text-align: center;}#sk-container-id-1 div.sk-container {/* jupyter's `normalize.less` sets `[hidden] { display: none; }` but bootstrap.min.css set `[hidden] { display: none !important; }` so we also need the `!important` here to be able to override the default hidden behavior on the sphinx rendered scikit-learn.org. See: https://github.com/scikit-learn/scikit-learn/issues/21755 */display: inline-block !important;position: relative;}#sk-container-id-1 div.sk-text-repr-fallback {display: none;}</style><div id=\"sk-container-id-1\" class=\"sk-top-container\"><div class=\"sk-text-repr-fallback\"><pre>KNeighborsClassifier(n_neighbors=6)</pre><b>In a Jupyter environment, please rerun this cell to show the HTML representation or trust the notebook. <br />On GitHub, the HTML representation is unable to render, please try loading this page with nbviewer.org.</b></div><div class=\"sk-container\" hidden><div class=\"sk-item\"><div class=\"sk-estimator sk-toggleable\"><input class=\"sk-toggleable__control sk-hidden--visually\" id=\"sk-estimator-id-1\" type=\"checkbox\" checked><label for=\"sk-estimator-id-1\" class=\"sk-toggleable__label sk-toggleable__label-arrow\">KNeighborsClassifier</label><div class=\"sk-toggleable__content\"><pre>KNeighborsClassifier(n_neighbors=6)</pre></div></div></div></div></div>"
      ],
      "text/plain": [
       "KNeighborsClassifier(n_neighbors=6)"
      ]
     },
     "execution_count": 31,
     "metadata": {},
     "output_type": "execute_result"
    }
   ],
   "source": [
    "# 最佳估计器\n",
    "print(\"最佳估计器:\")\n",
    "estimator.best_estimator_"
   ]
  },
  {
   "cell_type": "code",
   "execution_count": 32,
   "metadata": {},
   "outputs": [
    {
     "name": "stdout",
     "output_type": "stream",
     "text": [
      "交叉验证结果:\n"
     ]
    },
    {
     "data": {
      "text/plain": [
       "{'mean_fit_time': array([0.00159965, 0.0008002 , 0.00080049, 0.        ]),\n",
       " 'std_fit_time': array([0.00319929, 0.00240061, 0.00240147, 0.        ]),\n",
       " 'mean_score_time': array([0.00159953, 0.00160058, 0.00159917, 0.00160005]),\n",
       " 'std_score_time': array([0.00319905, 0.00320115, 0.00319834, 0.0032001 ]),\n",
       " 'param_n_neighbors': masked_array(data=[4, 5, 6, 7],\n",
       "              mask=[False, False, False, False],\n",
       "        fill_value='?',\n",
       "             dtype=object),\n",
       " 'params': [{'n_neighbors': 4},\n",
       "  {'n_neighbors': 5},\n",
       "  {'n_neighbors': 6},\n",
       "  {'n_neighbors': 7}],\n",
       " 'split0_test_score': array([0.91666667, 0.91666667, 0.91666667, 0.91666667]),\n",
       " 'split1_test_score': array([1., 1., 1., 1.]),\n",
       " 'split2_test_score': array([0.91666667, 0.91666667, 1.        , 0.91666667]),\n",
       " 'split3_test_score': array([1., 1., 1., 1.]),\n",
       " 'split4_test_score': array([1., 1., 1., 1.]),\n",
       " 'split5_test_score': array([1., 1., 1., 1.]),\n",
       " 'split6_test_score': array([1., 1., 1., 1.]),\n",
       " 'split7_test_score': array([0.91666667, 0.91666667, 0.91666667, 0.91666667]),\n",
       " 'split8_test_score': array([1., 1., 1., 1.]),\n",
       " 'split9_test_score': array([0.83333333, 0.83333333, 0.83333333, 0.83333333]),\n",
       " 'mean_test_score': array([0.95833333, 0.95833333, 0.96666667, 0.95833333]),\n",
       " 'std_test_score': array([0.0559017 , 0.0559017 , 0.05527708, 0.0559017 ]),\n",
       " 'rank_test_score': array([2, 2, 1, 2])}"
      ]
     },
     "execution_count": 32,
     "metadata": {},
     "output_type": "execute_result"
    }
   ],
   "source": [
    "# 交叉验证结果\n",
    "print(\"交叉验证结果:\")\n",
    "estimator.cv_results_"
   ]
  },
  {
   "cell_type": "markdown",
   "metadata": {
    "jupyter": {
     "outputs_hidden": false
    }
   },
   "source": [
    "**案例：Facebook签到位置预测K值调优**  \n",
    "流程分析：\n",
    "1. 获取数据\n",
    "2. 数据处理\n",
    "   1. 缩小数据范围（仅为了演示），如：设置 2 < x < 2.5, 1 < y < 1.5\n",
    "   2. time：时间戳 => 年月日时分秒\n",
    "   3. 过滤签到次数少的地点\n",
    "   4. 数据集划分\n",
    "3. 特征工程：标准化\n",
    "4. KNN 算法预估流程\n",
    "5. 模型选择与调优\n",
    "6. 模型评估"
   ]
  },
  {
   "cell_type": "code",
   "execution_count": 33,
   "metadata": {},
   "outputs": [],
   "source": [
    "import pandas as pd\n",
    "\n",
    "# 1、获取数据     注：该数据量很大，故单独放在一个 cell 中！！！！！！\n",
    "data = pd.read_csv('./官方资料/day2/02-代码/FBlocation/train.csv')"
   ]
  },
  {
   "cell_type": "code",
   "execution_count": 34,
   "metadata": {},
   "outputs": [
    {
     "data": {
      "text/html": [
       "<div>\n",
       "<style scoped>\n",
       "    .dataframe tbody tr th:only-of-type {\n",
       "        vertical-align: middle;\n",
       "    }\n",
       "\n",
       "    .dataframe tbody tr th {\n",
       "        vertical-align: top;\n",
       "    }\n",
       "\n",
       "    .dataframe thead th {\n",
       "        text-align: right;\n",
       "    }\n",
       "</style>\n",
       "<table border=\"1\" class=\"dataframe\">\n",
       "  <thead>\n",
       "    <tr style=\"text-align: right;\">\n",
       "      <th></th>\n",
       "      <th>row_id</th>\n",
       "      <th>x</th>\n",
       "      <th>y</th>\n",
       "      <th>accuracy</th>\n",
       "      <th>time</th>\n",
       "      <th>place_id</th>\n",
       "    </tr>\n",
       "  </thead>\n",
       "  <tbody>\n",
       "    <tr>\n",
       "      <th>0</th>\n",
       "      <td>0</td>\n",
       "      <td>0.7941</td>\n",
       "      <td>9.0809</td>\n",
       "      <td>54</td>\n",
       "      <td>470702</td>\n",
       "      <td>8523065625</td>\n",
       "    </tr>\n",
       "    <tr>\n",
       "      <th>1</th>\n",
       "      <td>1</td>\n",
       "      <td>5.9567</td>\n",
       "      <td>4.7968</td>\n",
       "      <td>13</td>\n",
       "      <td>186555</td>\n",
       "      <td>1757726713</td>\n",
       "    </tr>\n",
       "    <tr>\n",
       "      <th>2</th>\n",
       "      <td>2</td>\n",
       "      <td>8.3078</td>\n",
       "      <td>7.0407</td>\n",
       "      <td>74</td>\n",
       "      <td>322648</td>\n",
       "      <td>1137537235</td>\n",
       "    </tr>\n",
       "    <tr>\n",
       "      <th>3</th>\n",
       "      <td>3</td>\n",
       "      <td>7.3665</td>\n",
       "      <td>2.5165</td>\n",
       "      <td>65</td>\n",
       "      <td>704587</td>\n",
       "      <td>6567393236</td>\n",
       "    </tr>\n",
       "    <tr>\n",
       "      <th>4</th>\n",
       "      <td>4</td>\n",
       "      <td>4.0961</td>\n",
       "      <td>1.1307</td>\n",
       "      <td>31</td>\n",
       "      <td>472130</td>\n",
       "      <td>7440663949</td>\n",
       "    </tr>\n",
       "  </tbody>\n",
       "</table>\n",
       "</div>"
      ],
      "text/plain": [
       "   row_id       x       y  accuracy    time    place_id\n",
       "0       0  0.7941  9.0809        54  470702  8523065625\n",
       "1       1  5.9567  4.7968        13  186555  1757726713\n",
       "2       2  8.3078  7.0407        74  322648  1137537235\n",
       "3       3  7.3665  2.5165        65  704587  6567393236\n",
       "4       4  4.0961  1.1307        31  472130  7440663949"
      ]
     },
     "execution_count": 34,
     "metadata": {},
     "output_type": "execute_result"
    }
   ],
   "source": [
    "data.head()"
   ]
  },
  {
   "cell_type": "code",
   "execution_count": 35,
   "metadata": {},
   "outputs": [],
   "source": [
    "# 2、数据处理\n",
    "# 1) 缩小数据范围\n",
    "data = data.query(\"x < 2.5 & x > 2 & y < 1.5 & y > 1\")"
   ]
  },
  {
   "cell_type": "code",
   "execution_count": 36,
   "metadata": {},
   "outputs": [
    {
     "data": {
      "text/html": [
       "<div>\n",
       "<style scoped>\n",
       "    .dataframe tbody tr th:only-of-type {\n",
       "        vertical-align: middle;\n",
       "    }\n",
       "\n",
       "    .dataframe tbody tr th {\n",
       "        vertical-align: top;\n",
       "    }\n",
       "\n",
       "    .dataframe thead th {\n",
       "        text-align: right;\n",
       "    }\n",
       "</style>\n",
       "<table border=\"1\" class=\"dataframe\">\n",
       "  <thead>\n",
       "    <tr style=\"text-align: right;\">\n",
       "      <th></th>\n",
       "      <th>row_id</th>\n",
       "      <th>x</th>\n",
       "      <th>y</th>\n",
       "      <th>accuracy</th>\n",
       "      <th>time</th>\n",
       "      <th>place_id</th>\n",
       "      <th>day</th>\n",
       "      <th>weekday</th>\n",
       "      <th>hour</th>\n",
       "    </tr>\n",
       "  </thead>\n",
       "  <tbody>\n",
       "    <tr>\n",
       "      <th>112</th>\n",
       "      <td>112</td>\n",
       "      <td>2.2360</td>\n",
       "      <td>1.3655</td>\n",
       "      <td>66</td>\n",
       "      <td>623174</td>\n",
       "      <td>7663031065</td>\n",
       "      <td>8</td>\n",
       "      <td>3</td>\n",
       "      <td>5</td>\n",
       "    </tr>\n",
       "    <tr>\n",
       "      <th>180</th>\n",
       "      <td>180</td>\n",
       "      <td>2.2003</td>\n",
       "      <td>1.2541</td>\n",
       "      <td>65</td>\n",
       "      <td>610195</td>\n",
       "      <td>2358558474</td>\n",
       "      <td>8</td>\n",
       "      <td>3</td>\n",
       "      <td>1</td>\n",
       "    </tr>\n",
       "    <tr>\n",
       "      <th>367</th>\n",
       "      <td>367</td>\n",
       "      <td>2.4108</td>\n",
       "      <td>1.3213</td>\n",
       "      <td>74</td>\n",
       "      <td>579667</td>\n",
       "      <td>6644108708</td>\n",
       "      <td>7</td>\n",
       "      <td>2</td>\n",
       "      <td>17</td>\n",
       "    </tr>\n",
       "    <tr>\n",
       "      <th>874</th>\n",
       "      <td>874</td>\n",
       "      <td>2.0822</td>\n",
       "      <td>1.1973</td>\n",
       "      <td>320</td>\n",
       "      <td>143566</td>\n",
       "      <td>3229876087</td>\n",
       "      <td>2</td>\n",
       "      <td>4</td>\n",
       "      <td>15</td>\n",
       "    </tr>\n",
       "    <tr>\n",
       "      <th>1022</th>\n",
       "      <td>1022</td>\n",
       "      <td>2.0160</td>\n",
       "      <td>1.1659</td>\n",
       "      <td>65</td>\n",
       "      <td>207993</td>\n",
       "      <td>3244363975</td>\n",
       "      <td>3</td>\n",
       "      <td>5</td>\n",
       "      <td>9</td>\n",
       "    </tr>\n",
       "  </tbody>\n",
       "</table>\n",
       "</div>"
      ],
      "text/plain": [
       "      row_id       x       y  accuracy    time    place_id  day  weekday  hour\n",
       "112      112  2.2360  1.3655        66  623174  7663031065    8        3     5\n",
       "180      180  2.2003  1.2541        65  610195  2358558474    8        3     1\n",
       "367      367  2.4108  1.3213        74  579667  6644108708    7        2    17\n",
       "874      874  2.0822  1.1973       320  143566  3229876087    2        4    15\n",
       "1022    1022  2.0160  1.1659        65  207993  3244363975    3        5     9"
      ]
     },
     "execution_count": 36,
     "metadata": {},
     "output_type": "execute_result"
    }
   ],
   "source": [
    "# 2) 处理 time\n",
    "time_value = pd.to_datetime(data['time'], unit='s')\n",
    "# time_value.values\n",
    "date = pd.DatetimeIndex(time_value)\n",
    "# 添加特征 day, weekday, hour\n",
    "data['day'] = date.day\n",
    "data['weekday'] = date.weekday\n",
    "data['hour'] = date.hour\n",
    "\n",
    "data.head()"
   ]
  },
  {
   "cell_type": "code",
   "execution_count": 37,
   "metadata": {},
   "outputs": [
    {
     "data": {
      "text/plain": [
       "place_id\n",
       "1012165853     1\n",
       "1013991737     3\n",
       "1014605271    28\n",
       "1015645743     4\n",
       "1017236154    31\n",
       "              ..\n",
       "9988815170     1\n",
       "9992113332     1\n",
       "9993074125     2\n",
       "9994257798    25\n",
       "9996671132    18\n",
       "Name: row_id, Length: 2514, dtype: int64"
      ]
     },
     "execution_count": 37,
     "metadata": {},
     "output_type": "execute_result"
    }
   ],
   "source": [
    "# 3) 过滤签到次数少的点\n",
    "place_count = data.groupby('place_id').count()['row_id']\n",
    "place_count  # 每个地点签到次数"
   ]
  },
  {
   "cell_type": "code",
   "execution_count": 38,
   "metadata": {},
   "outputs": [
    {
     "data": {
      "text/plain": [
       "place_id\n",
       "1014605271     28\n",
       "1015645743      4\n",
       "1017236154     31\n",
       "1024951487      5\n",
       "1028119817      4\n",
       "             ... \n",
       "9936666116    140\n",
       "9954155328      8\n",
       "9980625005     16\n",
       "9994257798     25\n",
       "9996671132     18\n",
       "Name: row_id, Length: 950, dtype: int64"
      ]
     },
     "execution_count": 38,
     "metadata": {},
     "output_type": "execute_result"
    }
   ],
   "source": [
    "# 选取签到次数大于 3 的地点\n",
    "place_count[place_count > 3]"
   ]
  },
  {
   "cell_type": "code",
   "execution_count": 39,
   "metadata": {},
   "outputs": [
    {
     "data": {
      "text/html": [
       "<div>\n",
       "<style scoped>\n",
       "    .dataframe tbody tr th:only-of-type {\n",
       "        vertical-align: middle;\n",
       "    }\n",
       "\n",
       "    .dataframe tbody tr th {\n",
       "        vertical-align: top;\n",
       "    }\n",
       "\n",
       "    .dataframe thead th {\n",
       "        text-align: right;\n",
       "    }\n",
       "</style>\n",
       "<table border=\"1\" class=\"dataframe\">\n",
       "  <thead>\n",
       "    <tr style=\"text-align: right;\">\n",
       "      <th></th>\n",
       "      <th>row_id</th>\n",
       "      <th>x</th>\n",
       "      <th>y</th>\n",
       "      <th>accuracy</th>\n",
       "      <th>time</th>\n",
       "      <th>place_id</th>\n",
       "      <th>day</th>\n",
       "      <th>weekday</th>\n",
       "      <th>hour</th>\n",
       "    </tr>\n",
       "  </thead>\n",
       "  <tbody>\n",
       "    <tr>\n",
       "      <th>112</th>\n",
       "      <td>112</td>\n",
       "      <td>2.2360</td>\n",
       "      <td>1.3655</td>\n",
       "      <td>66</td>\n",
       "      <td>623174</td>\n",
       "      <td>7663031065</td>\n",
       "      <td>8</td>\n",
       "      <td>3</td>\n",
       "      <td>5</td>\n",
       "    </tr>\n",
       "    <tr>\n",
       "      <th>367</th>\n",
       "      <td>367</td>\n",
       "      <td>2.4108</td>\n",
       "      <td>1.3213</td>\n",
       "      <td>74</td>\n",
       "      <td>579667</td>\n",
       "      <td>6644108708</td>\n",
       "      <td>7</td>\n",
       "      <td>2</td>\n",
       "      <td>17</td>\n",
       "    </tr>\n",
       "    <tr>\n",
       "      <th>874</th>\n",
       "      <td>874</td>\n",
       "      <td>2.0822</td>\n",
       "      <td>1.1973</td>\n",
       "      <td>320</td>\n",
       "      <td>143566</td>\n",
       "      <td>3229876087</td>\n",
       "      <td>2</td>\n",
       "      <td>4</td>\n",
       "      <td>15</td>\n",
       "    </tr>\n",
       "    <tr>\n",
       "      <th>1022</th>\n",
       "      <td>1022</td>\n",
       "      <td>2.0160</td>\n",
       "      <td>1.1659</td>\n",
       "      <td>65</td>\n",
       "      <td>207993</td>\n",
       "      <td>3244363975</td>\n",
       "      <td>3</td>\n",
       "      <td>5</td>\n",
       "      <td>9</td>\n",
       "    </tr>\n",
       "    <tr>\n",
       "      <th>1045</th>\n",
       "      <td>1045</td>\n",
       "      <td>2.3859</td>\n",
       "      <td>1.1660</td>\n",
       "      <td>498</td>\n",
       "      <td>503378</td>\n",
       "      <td>6438240873</td>\n",
       "      <td>6</td>\n",
       "      <td>1</td>\n",
       "      <td>19</td>\n",
       "    </tr>\n",
       "    <tr>\n",
       "      <th>...</th>\n",
       "      <td>...</td>\n",
       "      <td>...</td>\n",
       "      <td>...</td>\n",
       "      <td>...</td>\n",
       "      <td>...</td>\n",
       "      <td>...</td>\n",
       "      <td>...</td>\n",
       "      <td>...</td>\n",
       "      <td>...</td>\n",
       "    </tr>\n",
       "    <tr>\n",
       "      <th>29115112</th>\n",
       "      <td>29115112</td>\n",
       "      <td>2.1889</td>\n",
       "      <td>1.2914</td>\n",
       "      <td>168</td>\n",
       "      <td>721885</td>\n",
       "      <td>4606837364</td>\n",
       "      <td>9</td>\n",
       "      <td>4</td>\n",
       "      <td>8</td>\n",
       "    </tr>\n",
       "    <tr>\n",
       "      <th>29115204</th>\n",
       "      <td>29115204</td>\n",
       "      <td>2.1193</td>\n",
       "      <td>1.4692</td>\n",
       "      <td>58</td>\n",
       "      <td>563389</td>\n",
       "      <td>2074133146</td>\n",
       "      <td>7</td>\n",
       "      <td>2</td>\n",
       "      <td>12</td>\n",
       "    </tr>\n",
       "    <tr>\n",
       "      <th>29115338</th>\n",
       "      <td>29115338</td>\n",
       "      <td>2.0007</td>\n",
       "      <td>1.4852</td>\n",
       "      <td>25</td>\n",
       "      <td>765986</td>\n",
       "      <td>6691588909</td>\n",
       "      <td>9</td>\n",
       "      <td>4</td>\n",
       "      <td>20</td>\n",
       "    </tr>\n",
       "    <tr>\n",
       "      <th>29115464</th>\n",
       "      <td>29115464</td>\n",
       "      <td>2.4132</td>\n",
       "      <td>1.4237</td>\n",
       "      <td>61</td>\n",
       "      <td>151918</td>\n",
       "      <td>7396159924</td>\n",
       "      <td>2</td>\n",
       "      <td>4</td>\n",
       "      <td>18</td>\n",
       "    </tr>\n",
       "    <tr>\n",
       "      <th>29117493</th>\n",
       "      <td>29117493</td>\n",
       "      <td>2.2948</td>\n",
       "      <td>1.0504</td>\n",
       "      <td>81</td>\n",
       "      <td>79569</td>\n",
       "      <td>1168869217</td>\n",
       "      <td>1</td>\n",
       "      <td>3</td>\n",
       "      <td>22</td>\n",
       "    </tr>\n",
       "  </tbody>\n",
       "</table>\n",
       "<p>80910 rows × 9 columns</p>\n",
       "</div>"
      ],
      "text/plain": [
       "            row_id       x       y  accuracy    time    place_id  day  \\\n",
       "112            112  2.2360  1.3655        66  623174  7663031065    8   \n",
       "367            367  2.4108  1.3213        74  579667  6644108708    7   \n",
       "874            874  2.0822  1.1973       320  143566  3229876087    2   \n",
       "1022          1022  2.0160  1.1659        65  207993  3244363975    3   \n",
       "1045          1045  2.3859  1.1660       498  503378  6438240873    6   \n",
       "...            ...     ...     ...       ...     ...         ...  ...   \n",
       "29115112  29115112  2.1889  1.2914       168  721885  4606837364    9   \n",
       "29115204  29115204  2.1193  1.4692        58  563389  2074133146    7   \n",
       "29115338  29115338  2.0007  1.4852        25  765986  6691588909    9   \n",
       "29115464  29115464  2.4132  1.4237        61  151918  7396159924    2   \n",
       "29117493  29117493  2.2948  1.0504        81   79569  1168869217    1   \n",
       "\n",
       "          weekday  hour  \n",
       "112             3     5  \n",
       "367             2    17  \n",
       "874             4    15  \n",
       "1022            5     9  \n",
       "1045            1    19  \n",
       "...           ...   ...  \n",
       "29115112        4     8  \n",
       "29115204        2    12  \n",
       "29115338        4    20  \n",
       "29115464        4    18  \n",
       "29117493        3    22  \n",
       "\n",
       "[80910 rows x 9 columns]"
      ]
     },
     "execution_count": 39,
     "metadata": {},
     "output_type": "execute_result"
    }
   ],
   "source": [
    "# 根据这个条件筛选出 data\n",
    "data_final = data[data['place_id'].isin(place_count[place_count > 3].index.values)]\n",
    "data_final"
   ]
  },
  {
   "cell_type": "code",
   "execution_count": 40,
   "metadata": {},
   "outputs": [
    {
     "name": "stderr",
     "output_type": "stream",
     "text": [
      "C:\\Users\\wanqi\\anaconda3\\envs\\tensorflow-py38\\lib\\site-packages\\sklearn\\model_selection\\_split.py:700: UserWarning: The least populated class in y has only 1 members, which is less than n_splits=10.\n",
      "  warnings.warn(\n"
     ]
    },
    {
     "name": "stdout",
     "output_type": "stream",
     "text": [
      "y_predict:\n"
     ]
    },
    {
     "data": {
      "text/plain": [
       "array([5304570159, 3069630737, 4691678575, ..., 1200418561, 7102786166,\n",
       "       6854303457], dtype=int64)"
      ]
     },
     "execution_count": 40,
     "metadata": {},
     "output_type": "execute_result"
    }
   ],
   "source": [
    "from sklearn.model_selection import train_test_split\n",
    "from sklearn.preprocessing import StandardScaler\n",
    "from sklearn.neighbors import KNeighborsClassifier\n",
    "from sklearn.model_selection import GridSearchCV\n",
    "\n",
    "# 筛选特征值和目标值\n",
    "x = data_final[['x', 'y', 'accuracy', 'day', 'weekday', 'hour']]  # 特征值\n",
    "y = data_final['place_id']\n",
    "\n",
    "# 4) 数据集划分\n",
    "x_train, x_test, y_train, y_test = train_test_split(x, y, test_size=0.2)\n",
    "\n",
    "# 3、特征工程：标准化\n",
    "transfer = StandardScaler()\n",
    "x_train = transfer.fit_transform(x_train)\n",
    "x_test = transfer.transform(x_test)\n",
    "\n",
    "# 4、KNN 算法预估器\n",
    "estimator = KNeighborsClassifier()\n",
    "\n",
    "# 加入网格搜索与交叉验证\n",
    "param_dict = {'n_neighbors': list(range(3, 9))}\n",
    "estimator = GridSearchCV(estimator=estimator, param_grid=param_dict, cv=10)  # 10 折交叉验证\n",
    "estimator.fit(x_train, y_train)\n",
    "\n",
    "# 模型评估\n",
    "## 方法 1：直接比对真实值和预测值\n",
    "print(\"y_predict:\")\n",
    "y_predict = estimator.predict(x_test)\n",
    "y_predict"
   ]
  },
  {
   "cell_type": "code",
   "execution_count": 41,
   "metadata": {},
   "outputs": [
    {
     "name": "stdout",
     "output_type": "stream",
     "text": [
      "y_test:\n"
     ]
    },
    {
     "data": {
      "text/plain": [
       "array([7834777560, 3069630737, 3163226764, ..., 7278590122, 7278590122,\n",
       "       5787101027], dtype=int64)"
      ]
     },
     "execution_count": 41,
     "metadata": {},
     "output_type": "execute_result"
    }
   ],
   "source": [
    "print(\"y_test:\")\n",
    "y_test.values"
   ]
  },
  {
   "cell_type": "code",
   "execution_count": 42,
   "metadata": {},
   "outputs": [
    {
     "data": {
      "text/plain": [
       "array([False,  True, False, ..., False, False, False])"
      ]
     },
     "execution_count": 42,
     "metadata": {},
     "output_type": "execute_result"
    }
   ],
   "source": [
    "y_predict == y_test.values  # numpy.array 的比较"
   ]
  },
  {
   "cell_type": "code",
   "execution_count": 43,
   "metadata": {},
   "outputs": [
    {
     "name": "stdout",
     "output_type": "stream",
     "text": [
      "准确率（在测试集中的效果）:\n"
     ]
    },
    {
     "data": {
      "text/plain": [
       "0.37529353602768506"
      ]
     },
     "execution_count": 43,
     "metadata": {},
     "output_type": "execute_result"
    }
   ],
   "source": [
    "## 方法 2：计算准确率\n",
    "print(\"准确率（在测试集中的效果）:\")\n",
    "estimator.score(x_test, y_test)"
   ]
  },
  {
   "cell_type": "code",
   "execution_count": 44,
   "metadata": {},
   "outputs": [
    {
     "name": "stdout",
     "output_type": "stream",
     "text": [
      "最佳参数:\n"
     ]
    },
    {
     "data": {
      "text/plain": [
       "{'n_neighbors': 6}"
      ]
     },
     "execution_count": 44,
     "metadata": {},
     "output_type": "execute_result"
    }
   ],
   "source": [
    "\"\"\"训练验证集的结果\"\"\"\n",
    "# 最佳参数\n",
    "print(\"最佳参数:\")\n",
    "estimator.best_params_"
   ]
  },
  {
   "cell_type": "code",
   "execution_count": 45,
   "metadata": {},
   "outputs": [
    {
     "name": "stdout",
     "output_type": "stream",
     "text": [
      "最佳结果（在验证集中的结果）:\n"
     ]
    },
    {
     "data": {
      "text/plain": [
       "0.3615589774163173"
      ]
     },
     "execution_count": 45,
     "metadata": {},
     "output_type": "execute_result"
    }
   ],
   "source": [
    "# 最佳结果\n",
    "print(\"最佳结果（在验证集中的结果）:\")\n",
    "estimator.best_score_"
   ]
  },
  {
   "cell_type": "code",
   "execution_count": 46,
   "metadata": {},
   "outputs": [
    {
     "name": "stdout",
     "output_type": "stream",
     "text": [
      "最佳估计器:\n"
     ]
    },
    {
     "data": {
      "text/html": [
       "<style>#sk-container-id-2 {color: black;background-color: white;}#sk-container-id-2 pre{padding: 0;}#sk-container-id-2 div.sk-toggleable {background-color: white;}#sk-container-id-2 label.sk-toggleable__label {cursor: pointer;display: block;width: 100%;margin-bottom: 0;padding: 0.3em;box-sizing: border-box;text-align: center;}#sk-container-id-2 label.sk-toggleable__label-arrow:before {content: \"▸\";float: left;margin-right: 0.25em;color: #696969;}#sk-container-id-2 label.sk-toggleable__label-arrow:hover:before {color: black;}#sk-container-id-2 div.sk-estimator:hover label.sk-toggleable__label-arrow:before {color: black;}#sk-container-id-2 div.sk-toggleable__content {max-height: 0;max-width: 0;overflow: hidden;text-align: left;background-color: #f0f8ff;}#sk-container-id-2 div.sk-toggleable__content pre {margin: 0.2em;color: black;border-radius: 0.25em;background-color: #f0f8ff;}#sk-container-id-2 input.sk-toggleable__control:checked~div.sk-toggleable__content {max-height: 200px;max-width: 100%;overflow: auto;}#sk-container-id-2 input.sk-toggleable__control:checked~label.sk-toggleable__label-arrow:before {content: \"▾\";}#sk-container-id-2 div.sk-estimator input.sk-toggleable__control:checked~label.sk-toggleable__label {background-color: #d4ebff;}#sk-container-id-2 div.sk-label input.sk-toggleable__control:checked~label.sk-toggleable__label {background-color: #d4ebff;}#sk-container-id-2 input.sk-hidden--visually {border: 0;clip: rect(1px 1px 1px 1px);clip: rect(1px, 1px, 1px, 1px);height: 1px;margin: -1px;overflow: hidden;padding: 0;position: absolute;width: 1px;}#sk-container-id-2 div.sk-estimator {font-family: monospace;background-color: #f0f8ff;border: 1px dotted black;border-radius: 0.25em;box-sizing: border-box;margin-bottom: 0.5em;}#sk-container-id-2 div.sk-estimator:hover {background-color: #d4ebff;}#sk-container-id-2 div.sk-parallel-item::after {content: \"\";width: 100%;border-bottom: 1px solid gray;flex-grow: 1;}#sk-container-id-2 div.sk-label:hover label.sk-toggleable__label {background-color: #d4ebff;}#sk-container-id-2 div.sk-serial::before {content: \"\";position: absolute;border-left: 1px solid gray;box-sizing: border-box;top: 0;bottom: 0;left: 50%;z-index: 0;}#sk-container-id-2 div.sk-serial {display: flex;flex-direction: column;align-items: center;background-color: white;padding-right: 0.2em;padding-left: 0.2em;position: relative;}#sk-container-id-2 div.sk-item {position: relative;z-index: 1;}#sk-container-id-2 div.sk-parallel {display: flex;align-items: stretch;justify-content: center;background-color: white;position: relative;}#sk-container-id-2 div.sk-item::before, #sk-container-id-2 div.sk-parallel-item::before {content: \"\";position: absolute;border-left: 1px solid gray;box-sizing: border-box;top: 0;bottom: 0;left: 50%;z-index: -1;}#sk-container-id-2 div.sk-parallel-item {display: flex;flex-direction: column;z-index: 1;position: relative;background-color: white;}#sk-container-id-2 div.sk-parallel-item:first-child::after {align-self: flex-end;width: 50%;}#sk-container-id-2 div.sk-parallel-item:last-child::after {align-self: flex-start;width: 50%;}#sk-container-id-2 div.sk-parallel-item:only-child::after {width: 0;}#sk-container-id-2 div.sk-dashed-wrapped {border: 1px dashed gray;margin: 0 0.4em 0.5em 0.4em;box-sizing: border-box;padding-bottom: 0.4em;background-color: white;}#sk-container-id-2 div.sk-label label {font-family: monospace;font-weight: bold;display: inline-block;line-height: 1.2em;}#sk-container-id-2 div.sk-label-container {text-align: center;}#sk-container-id-2 div.sk-container {/* jupyter's `normalize.less` sets `[hidden] { display: none; }` but bootstrap.min.css set `[hidden] { display: none !important; }` so we also need the `!important` here to be able to override the default hidden behavior on the sphinx rendered scikit-learn.org. See: https://github.com/scikit-learn/scikit-learn/issues/21755 */display: inline-block !important;position: relative;}#sk-container-id-2 div.sk-text-repr-fallback {display: none;}</style><div id=\"sk-container-id-2\" class=\"sk-top-container\"><div class=\"sk-text-repr-fallback\"><pre>KNeighborsClassifier(n_neighbors=6)</pre><b>In a Jupyter environment, please rerun this cell to show the HTML representation or trust the notebook. <br />On GitHub, the HTML representation is unable to render, please try loading this page with nbviewer.org.</b></div><div class=\"sk-container\" hidden><div class=\"sk-item\"><div class=\"sk-estimator sk-toggleable\"><input class=\"sk-toggleable__control sk-hidden--visually\" id=\"sk-estimator-id-2\" type=\"checkbox\" checked><label for=\"sk-estimator-id-2\" class=\"sk-toggleable__label sk-toggleable__label-arrow\">KNeighborsClassifier</label><div class=\"sk-toggleable__content\"><pre>KNeighborsClassifier(n_neighbors=6)</pre></div></div></div></div></div>"
      ],
      "text/plain": [
       "KNeighborsClassifier(n_neighbors=6)"
      ]
     },
     "execution_count": 46,
     "metadata": {},
     "output_type": "execute_result"
    }
   ],
   "source": [
    "# 最佳估计器\n",
    "print(\"最佳估计器:\")\n",
    "estimator.best_estimator_"
   ]
  },
  {
   "cell_type": "code",
   "execution_count": 47,
   "metadata": {},
   "outputs": [
    {
     "name": "stdout",
     "output_type": "stream",
     "text": [
      "交叉验证结果:\n"
     ]
    },
    {
     "data": {
      "text/plain": [
       "{'mean_fit_time': array([0.10335579, 0.11280847, 0.10824974, 0.10665939, 0.10638576,\n",
       "        0.11050975]),\n",
       " 'std_fit_time': array([0.00435497, 0.00476411, 0.00431348, 0.00285401, 0.00308611,\n",
       "        0.00922888]),\n",
       " 'mean_score_time': array([0.24524057, 0.3239965 , 0.27765555, 0.28632512, 0.30471311,\n",
       "        0.33305178]),\n",
       " 'std_score_time': array([0.00536207, 0.03822512, 0.01156103, 0.028222  , 0.01059216,\n",
       "        0.04093444]),\n",
       " 'param_n_neighbors': masked_array(data=[3, 4, 5, 6, 7, 8],\n",
       "              mask=[False, False, False, False, False, False],\n",
       "        fill_value='?',\n",
       "             dtype=object),\n",
       " 'params': [{'n_neighbors': 3},\n",
       "  {'n_neighbors': 4},\n",
       "  {'n_neighbors': 5},\n",
       "  {'n_neighbors': 6},\n",
       "  {'n_neighbors': 7},\n",
       "  {'n_neighbors': 8}],\n",
       " 'split0_test_score': array([0.34759771, 0.3579484 , 0.36227406, 0.35763943, 0.35748494,\n",
       "        0.35655801]),\n",
       " 'split1_test_score': array([0.34126371, 0.34837015, 0.35949328, 0.35980226, 0.35763943,\n",
       "        0.3591843 ]),\n",
       " 'split2_test_score': array([0.3554766 , 0.35640352, 0.36042021, 0.36103816, 0.35702147,\n",
       "        0.35439518]),\n",
       " 'split3_test_score': array([0.34512591, 0.35192337, 0.35516762, 0.36273753, 0.35949328,\n",
       "        0.35933879]),\n",
       " 'split4_test_score': array([0.34837015, 0.35362274, 0.36088367, 0.3630465 , 0.36443689,\n",
       "        0.36134713]),\n",
       " 'split5_test_score': array([0.34389   , 0.35331376, 0.35841186, 0.36675421, 0.36567279,\n",
       "        0.36490036]),\n",
       " 'split6_test_score': array([0.35655801, 0.36134713, 0.36799011, 0.36860806, 0.36536382,\n",
       "        0.36150162]),\n",
       " 'split7_test_score': array([0.34945157, 0.35640352, 0.36103816, 0.36335548, 0.36072918,\n",
       "        0.3618106 ]),\n",
       " 'split8_test_score': array([0.33559951, 0.34904203, 0.35352287, 0.35352287, 0.35367738,\n",
       "        0.3525958 ]),\n",
       " 'split9_test_score': array([0.34378863, 0.35352287, 0.3592398 , 0.35908529, 0.35893078,\n",
       "        0.3539864 ]),\n",
       " 'mean_test_score': array([0.34671218, 0.35418975, 0.35984416, 0.36155898, 0.360045  ,\n",
       "        0.35856182]),\n",
       " 'std_test_score': array([0.00597493, 0.00377086, 0.00373454, 0.00415846, 0.00378541,\n",
       "        0.00382135]),\n",
       " 'rank_test_score': array([6, 5, 3, 1, 2, 4])}"
      ]
     },
     "execution_count": 47,
     "metadata": {},
     "output_type": "execute_result"
    }
   ],
   "source": [
    "# 交叉验证结果\n",
    "print(\"交叉验证结果:\")\n",
    "estimator.cv_results_"
   ]
  },
  {
   "cell_type": "markdown",
   "metadata": {},
   "source": [
    "> ***注：下面的笔记均略去知识点的罗列，只记录相应 sklearn 代码***"
   ]
  },
  {
   "cell_type": "markdown",
   "metadata": {},
   "source": [
    "### **朴素贝叶斯算法**\n",
    "朴素：假定特征之间相互独立  \n",
    "链接：[SHOWMEAI-朴素贝叶斯算法详解](https://www.showmeai.tech/tutorials/34?articleId=189)  \n",
    "**案例：20类新闻分类**"
   ]
  },
  {
   "cell_type": "code",
   "execution_count": 48,
   "metadata": {},
   "outputs": [
    {
     "name": "stdout",
     "output_type": "stream",
     "text": [
      "---测试集结果---\n",
      "y_predict:\n"
     ]
    },
    {
     "data": {
      "text/plain": [
       "array([16, 19, 18, ..., 17, 16,  2])"
      ]
     },
     "execution_count": 48,
     "metadata": {},
     "output_type": "execute_result"
    }
   ],
   "source": [
    "from sklearn.datasets import fetch_20newsgroups\n",
    "from sklearn.model_selection import train_test_split\n",
    "from sklearn.feature_extraction.text import TfidfVectorizer\n",
    "from sklearn.naive_bayes import MultinomialNB\n",
    "\n",
    "# 获取数据\n",
    "news = fetch_20newsgroups(subset='all')  # data_home=None(默认), subset: {'train', 'test', 'all'}\n",
    "\n",
    "# 划分数据集\n",
    "x_train, x_test, y_train, y_test = train_test_split(news.data, news.target, test_size=0.2, random_state=1)\n",
    "\n",
    "# 特征工程\n",
    "transfer = TfidfVectorizer()\n",
    "x_train = transfer.fit_transform(x_train)\n",
    "x_test = transfer.transform(x_test)\n",
    "\n",
    "# 朴素贝叶斯算法预估器\n",
    "estimator = MultinomialNB()  # 默认：拉普拉斯平滑系数 alpha=1.0\n",
    "estimator.fit(x_train, y_train)\n",
    "\n",
    "# 模型评估（测试集）\n",
    "## 直接比对真实值和预测值\n",
    "print('---测试集结果---')\n",
    "y_predict = estimator.predict(x_test)\n",
    "print('y_predict:')\n",
    "y_predict"
   ]
  },
  {
   "cell_type": "code",
   "execution_count": 49,
   "metadata": {},
   "outputs": [
    {
     "name": "stdout",
     "output_type": "stream",
     "text": [
      "y_test:\n"
     ]
    },
    {
     "data": {
      "text/plain": [
       "array([16, 19, 18, ..., 17, 16,  2])"
      ]
     },
     "execution_count": 49,
     "metadata": {},
     "output_type": "execute_result"
    }
   ],
   "source": [
    "print('y_test:')\n",
    "y_test"
   ]
  },
  {
   "cell_type": "code",
   "execution_count": 50,
   "metadata": {},
   "outputs": [
    {
     "name": "stdout",
     "output_type": "stream",
     "text": [
      "直接比对真实值和预测值:\n"
     ]
    },
    {
     "data": {
      "text/plain": [
       "array([ True,  True,  True, ...,  True,  True,  True])"
      ]
     },
     "execution_count": 50,
     "metadata": {},
     "output_type": "execute_result"
    }
   ],
   "source": [
    "print('直接比对真实值和预测值:')\n",
    "y_predict == y_test"
   ]
  },
  {
   "cell_type": "code",
   "execution_count": 51,
   "metadata": {},
   "outputs": [
    {
     "name": "stdout",
     "output_type": "stream",
     "text": [
      "测试集准确率：\n"
     ]
    },
    {
     "data": {
      "text/plain": [
       "0.8647214854111406"
      ]
     },
     "execution_count": 51,
     "metadata": {},
     "output_type": "execute_result"
    }
   ],
   "source": [
    "## 计算准确率\n",
    "print('测试集准确率：')\n",
    "estimator.score(x_test, y_test)"
   ]
  },
  {
   "cell_type": "markdown",
   "metadata": {},
   "source": [
    "### **决策树**  \n",
    "链接：[SHOWMEAI 决策树模型详解](https://www.showmeai.tech/tutorials/34?articleId=190)  \n",
    "\n",
    "一些概念：  \n",
    "- 信息：消除不确定性的东西  \n",
    "- 信息熵：消除不确定性**所需信息量**的度量\n",
    "\n",
    "ID-3：\n",
    "- 信息增益：选择某个属性进行划分时信息熵的变化（不确定性降低的程度，描述了一个特征带来的信息量的多少）\n",
    "- 信息增益 = 划分前的信息熵 - 划分后的信息熵（消除不确定性所需信息量变小）\n",
    "\n",
    "C4.5：\n",
    "- 信息增益的问题：偏向取值较多的特征\n",
    "- 信息增益率：多了一个衡量本身属性的分散程度的部分作为分母\n",
    "\n",
    "CART:\n",
    "- 基尼指数：从 D 中随机抽取两个样例，类别不一致的概率\n",
    "\n",
    "预剪枝、后剪枝、连续值缺失值：参加上面链接"
   ]
  },
  {
   "cell_type": "code",
   "execution_count": 52,
   "metadata": {},
   "outputs": [
    {
     "name": "stdout",
     "output_type": "stream",
     "text": [
      "y_predict:\n"
     ]
    },
    {
     "data": {
      "text/plain": [
       "array([0, 2, 1, 2, 1, 1, 1, 1, 1, 0, 2, 1, 2, 2, 0, 2, 1, 1, 1, 1, 0, 2,\n",
       "       0, 1, 2, 0, 1, 2, 2, 1])"
      ]
     },
     "execution_count": 52,
     "metadata": {},
     "output_type": "execute_result"
    }
   ],
   "source": [
    "\"\"\"例子1：决策树对鸢尾花分类\"\"\"\n",
    "from sklearn.datasets import load_iris\n",
    "from sklearn.model_selection import train_test_split\n",
    "from sklearn.tree import DecisionTreeClassifier\n",
    "\n",
    "# 1、获取数据\n",
    "iris = load_iris()\n",
    "\n",
    "# 2、划分数据集\n",
    "x_train, x_test, y_train, y_test = train_test_split(iris.data, iris.target, test_size=0.2, random_state=22)\n",
    "\n",
    "\"\"\"决策树不需要标准化（不计算距离）\"\"\"\n",
    "\n",
    "# 3、决策树预估器\n",
    "estimator = DecisionTreeClassifier(criterion='entropy')  # criterion 默认为 'gini'\n",
    "estimator.fit(x_train, y_train)\n",
    "\n",
    "# 4、模型评估\n",
    "## 直接比对真实值和预测值\n",
    "y_predict = estimator.predict(x_test)\n",
    "print('y_predict:')\n",
    "y_predict"
   ]
  },
  {
   "cell_type": "code",
   "execution_count": 53,
   "metadata": {},
   "outputs": [
    {
     "name": "stdout",
     "output_type": "stream",
     "text": [
      "y_test:\n"
     ]
    },
    {
     "data": {
      "text/plain": [
       "array([0, 2, 1, 2, 1, 1, 1, 2, 1, 0, 2, 1, 2, 2, 0, 2, 1, 1, 2, 1, 0, 2,\n",
       "       0, 1, 2, 0, 2, 2, 2, 2])"
      ]
     },
     "execution_count": 53,
     "metadata": {},
     "output_type": "execute_result"
    }
   ],
   "source": [
    "print('y_test:')\n",
    "y_test"
   ]
  },
  {
   "cell_type": "code",
   "execution_count": 54,
   "metadata": {},
   "outputs": [
    {
     "name": "stdout",
     "output_type": "stream",
     "text": [
      "直接比对真实值和预测值:\n"
     ]
    },
    {
     "data": {
      "text/plain": [
       "array([ True,  True,  True,  True,  True,  True,  True, False,  True,\n",
       "        True,  True,  True,  True,  True,  True,  True,  True,  True,\n",
       "       False,  True,  True,  True,  True,  True,  True,  True, False,\n",
       "        True,  True, False])"
      ]
     },
     "execution_count": 54,
     "metadata": {},
     "output_type": "execute_result"
    }
   ],
   "source": [
    "print('直接比对真实值和预测值:')\n",
    "y_predict == y_test"
   ]
  },
  {
   "cell_type": "code",
   "execution_count": 55,
   "metadata": {},
   "outputs": [
    {
     "name": "stdout",
     "output_type": "stream",
     "text": [
      "测试集准确率：\n"
     ]
    },
    {
     "data": {
      "text/plain": [
       "0.8666666666666667"
      ]
     },
     "execution_count": 55,
     "metadata": {},
     "output_type": "execute_result"
    }
   ],
   "source": [
    "## 计算准确率\n",
    "print('测试集准确率：')\n",
    "estimator.score(x_test, y_test)"
   ]
  },
  {
   "cell_type": "markdown",
   "metadata": {
    "tags": []
   },
   "source": [
    "#### **决策树可视化**\n",
    "[http://webgraphviz.com/](http://webgraphviz.com/)"
   ]
  },
  {
   "cell_type": "code",
   "execution_count": 56,
   "metadata": {},
   "outputs": [],
   "source": [
    "from sklearn.tree import export_graphviz\n",
    "\n",
    "# 生成 .dot 文件，在 http://webgraphviz.com/ 中查看\n",
    "export_graphviz(estimator, out_file='./output/iris_tree.dot', feature_names=iris.feature_names)"
   ]
  },
  {
   "cell_type": "markdown",
   "metadata": {},
   "source": [
    "可视化结果：\n",
    "- entropy: 信息增益\n",
    "- samples: 样本数  \n",
    "\n",
    "<img src='./machine learning resources/iris_tree.png' style='zoom:60%;'>"
   ]
  },
  {
   "cell_type": "code",
   "execution_count": 57,
   "metadata": {},
   "outputs": [
    {
     "data": {
      "text/html": [
       "<div>\n",
       "<style scoped>\n",
       "    .dataframe tbody tr th:only-of-type {\n",
       "        vertical-align: middle;\n",
       "    }\n",
       "\n",
       "    .dataframe tbody tr th {\n",
       "        vertical-align: top;\n",
       "    }\n",
       "\n",
       "    .dataframe thead th {\n",
       "        text-align: right;\n",
       "    }\n",
       "</style>\n",
       "<table border=\"1\" class=\"dataframe\">\n",
       "  <thead>\n",
       "    <tr style=\"text-align: right;\">\n",
       "      <th></th>\n",
       "      <th>row.names</th>\n",
       "      <th>pclass</th>\n",
       "      <th>survived</th>\n",
       "      <th>name</th>\n",
       "      <th>age</th>\n",
       "      <th>embarked</th>\n",
       "      <th>home.dest</th>\n",
       "      <th>room</th>\n",
       "      <th>ticket</th>\n",
       "      <th>boat</th>\n",
       "      <th>sex</th>\n",
       "    </tr>\n",
       "  </thead>\n",
       "  <tbody>\n",
       "    <tr>\n",
       "      <th>0</th>\n",
       "      <td>1</td>\n",
       "      <td>1st</td>\n",
       "      <td>1</td>\n",
       "      <td>Allen, Miss Elisabeth Walton</td>\n",
       "      <td>29.0000</td>\n",
       "      <td>Southampton</td>\n",
       "      <td>St Louis, MO</td>\n",
       "      <td>B-5</td>\n",
       "      <td>24160 L221</td>\n",
       "      <td>2</td>\n",
       "      <td>female</td>\n",
       "    </tr>\n",
       "    <tr>\n",
       "      <th>1</th>\n",
       "      <td>2</td>\n",
       "      <td>1st</td>\n",
       "      <td>0</td>\n",
       "      <td>Allison, Miss Helen Loraine</td>\n",
       "      <td>2.0000</td>\n",
       "      <td>Southampton</td>\n",
       "      <td>Montreal, PQ / Chesterville, ON</td>\n",
       "      <td>C26</td>\n",
       "      <td>NaN</td>\n",
       "      <td>NaN</td>\n",
       "      <td>female</td>\n",
       "    </tr>\n",
       "    <tr>\n",
       "      <th>2</th>\n",
       "      <td>3</td>\n",
       "      <td>1st</td>\n",
       "      <td>0</td>\n",
       "      <td>Allison, Mr Hudson Joshua Creighton</td>\n",
       "      <td>30.0000</td>\n",
       "      <td>Southampton</td>\n",
       "      <td>Montreal, PQ / Chesterville, ON</td>\n",
       "      <td>C26</td>\n",
       "      <td>NaN</td>\n",
       "      <td>(135)</td>\n",
       "      <td>male</td>\n",
       "    </tr>\n",
       "    <tr>\n",
       "      <th>3</th>\n",
       "      <td>4</td>\n",
       "      <td>1st</td>\n",
       "      <td>0</td>\n",
       "      <td>Allison, Mrs Hudson J.C. (Bessie Waldo Daniels)</td>\n",
       "      <td>25.0000</td>\n",
       "      <td>Southampton</td>\n",
       "      <td>Montreal, PQ / Chesterville, ON</td>\n",
       "      <td>C26</td>\n",
       "      <td>NaN</td>\n",
       "      <td>NaN</td>\n",
       "      <td>female</td>\n",
       "    </tr>\n",
       "    <tr>\n",
       "      <th>4</th>\n",
       "      <td>5</td>\n",
       "      <td>1st</td>\n",
       "      <td>1</td>\n",
       "      <td>Allison, Master Hudson Trevor</td>\n",
       "      <td>0.9167</td>\n",
       "      <td>Southampton</td>\n",
       "      <td>Montreal, PQ / Chesterville, ON</td>\n",
       "      <td>C22</td>\n",
       "      <td>NaN</td>\n",
       "      <td>11</td>\n",
       "      <td>male</td>\n",
       "    </tr>\n",
       "    <tr>\n",
       "      <th>5</th>\n",
       "      <td>6</td>\n",
       "      <td>1st</td>\n",
       "      <td>1</td>\n",
       "      <td>Anderson, Mr Harry</td>\n",
       "      <td>47.0000</td>\n",
       "      <td>Southampton</td>\n",
       "      <td>New York, NY</td>\n",
       "      <td>E-12</td>\n",
       "      <td>NaN</td>\n",
       "      <td>3</td>\n",
       "      <td>male</td>\n",
       "    </tr>\n",
       "    <tr>\n",
       "      <th>6</th>\n",
       "      <td>7</td>\n",
       "      <td>1st</td>\n",
       "      <td>1</td>\n",
       "      <td>Andrews, Miss Kornelia Theodosia</td>\n",
       "      <td>63.0000</td>\n",
       "      <td>Southampton</td>\n",
       "      <td>Hudson, NY</td>\n",
       "      <td>D-7</td>\n",
       "      <td>13502 L77</td>\n",
       "      <td>10</td>\n",
       "      <td>female</td>\n",
       "    </tr>\n",
       "    <tr>\n",
       "      <th>7</th>\n",
       "      <td>8</td>\n",
       "      <td>1st</td>\n",
       "      <td>0</td>\n",
       "      <td>Andrews, Mr Thomas, jr</td>\n",
       "      <td>39.0000</td>\n",
       "      <td>Southampton</td>\n",
       "      <td>Belfast, NI</td>\n",
       "      <td>A-36</td>\n",
       "      <td>NaN</td>\n",
       "      <td>NaN</td>\n",
       "      <td>male</td>\n",
       "    </tr>\n",
       "    <tr>\n",
       "      <th>8</th>\n",
       "      <td>9</td>\n",
       "      <td>1st</td>\n",
       "      <td>1</td>\n",
       "      <td>Appleton, Mrs Edward Dale (Charlotte Lamson)</td>\n",
       "      <td>58.0000</td>\n",
       "      <td>Southampton</td>\n",
       "      <td>Bayside, Queens, NY</td>\n",
       "      <td>C-101</td>\n",
       "      <td>NaN</td>\n",
       "      <td>2</td>\n",
       "      <td>female</td>\n",
       "    </tr>\n",
       "    <tr>\n",
       "      <th>9</th>\n",
       "      <td>10</td>\n",
       "      <td>1st</td>\n",
       "      <td>0</td>\n",
       "      <td>Artagaveytia, Mr Ramon</td>\n",
       "      <td>71.0000</td>\n",
       "      <td>Cherbourg</td>\n",
       "      <td>Montevideo, Uruguay</td>\n",
       "      <td>NaN</td>\n",
       "      <td>NaN</td>\n",
       "      <td>(22)</td>\n",
       "      <td>male</td>\n",
       "    </tr>\n",
       "  </tbody>\n",
       "</table>\n",
       "</div>"
      ],
      "text/plain": [
       "   row.names pclass  survived  \\\n",
       "0          1    1st         1   \n",
       "1          2    1st         0   \n",
       "2          3    1st         0   \n",
       "3          4    1st         0   \n",
       "4          5    1st         1   \n",
       "5          6    1st         1   \n",
       "6          7    1st         1   \n",
       "7          8    1st         0   \n",
       "8          9    1st         1   \n",
       "9         10    1st         0   \n",
       "\n",
       "                                              name      age     embarked  \\\n",
       "0                     Allen, Miss Elisabeth Walton  29.0000  Southampton   \n",
       "1                      Allison, Miss Helen Loraine   2.0000  Southampton   \n",
       "2              Allison, Mr Hudson Joshua Creighton  30.0000  Southampton   \n",
       "3  Allison, Mrs Hudson J.C. (Bessie Waldo Daniels)  25.0000  Southampton   \n",
       "4                    Allison, Master Hudson Trevor   0.9167  Southampton   \n",
       "5                               Anderson, Mr Harry  47.0000  Southampton   \n",
       "6                 Andrews, Miss Kornelia Theodosia  63.0000  Southampton   \n",
       "7                           Andrews, Mr Thomas, jr  39.0000  Southampton   \n",
       "8     Appleton, Mrs Edward Dale (Charlotte Lamson)  58.0000  Southampton   \n",
       "9                           Artagaveytia, Mr Ramon  71.0000    Cherbourg   \n",
       "\n",
       "                         home.dest   room      ticket   boat     sex  \n",
       "0                     St Louis, MO    B-5  24160 L221      2  female  \n",
       "1  Montreal, PQ / Chesterville, ON    C26         NaN    NaN  female  \n",
       "2  Montreal, PQ / Chesterville, ON    C26         NaN  (135)    male  \n",
       "3  Montreal, PQ / Chesterville, ON    C26         NaN    NaN  female  \n",
       "4  Montreal, PQ / Chesterville, ON    C22         NaN     11    male  \n",
       "5                     New York, NY   E-12         NaN      3    male  \n",
       "6                       Hudson, NY    D-7   13502 L77     10  female  \n",
       "7                      Belfast, NI   A-36         NaN    NaN    male  \n",
       "8              Bayside, Queens, NY  C-101         NaN      2  female  \n",
       "9              Montevideo, Uruguay    NaN         NaN   (22)    male  "
      ]
     },
     "execution_count": 57,
     "metadata": {},
     "output_type": "execute_result"
    }
   ],
   "source": [
    "\"\"\"例子2：决策树 泰坦尼克号乘客生存预测\"\"\"\n",
    "# 数据集链接：https://hbiostat.org/data/repo/titanic.txt\n",
    "#        或见 ./machine learning resources/titanic.txt\n",
    "import pandas as pd\n",
    "\n",
    "# 1 获取数据\n",
    "path = './machine learning resources/titanic.txt'\n",
    "titanic = pd.read_csv(path)\n",
    "titanic.head(10)"
   ]
  },
  {
   "cell_type": "code",
   "execution_count": 58,
   "metadata": {},
   "outputs": [],
   "source": [
    "# 2 选取特征值和目标值\n",
    "x = titanic[['pclass', 'age', 'room', 'sex']]\n",
    "y = titanic['survived']"
   ]
  },
  {
   "cell_type": "markdown",
   "metadata": {},
   "source": [
    "`fillna()` 中 inplace 参数的取值：True、False  \n",
    "- True：直接修改原对象  \n",
    "- False：创建一个副本，修改副本，原对象不变（缺省默认）"
   ]
  },
  {
   "cell_type": "code",
   "execution_count": 59,
   "metadata": {},
   "outputs": [
    {
     "name": "stderr",
     "output_type": "stream",
     "text": [
      "C:\\Users\\wanqi\\AppData\\Local\\Temp\\ipykernel_7284\\1066978918.py:3: SettingWithCopyWarning: \n",
      "A value is trying to be set on a copy of a slice from a DataFrame\n",
      "\n",
      "See the caveats in the documentation: https://pandas.pydata.org/pandas-docs/stable/user_guide/indexing.html#returning-a-view-versus-a-copy\n",
      "  x['age'].fillna(x['age'].mean(), inplace=True)\n",
      "C:\\Users\\wanqi\\AppData\\Local\\Temp\\ipykernel_7284\\1066978918.py:4: SettingWithCopyWarning: \n",
      "A value is trying to be set on a copy of a slice from a DataFrame\n",
      "\n",
      "See the caveats in the documentation: https://pandas.pydata.org/pandas-docs/stable/user_guide/indexing.html#returning-a-view-versus-a-copy\n",
      "  x['room'].fillna(method='ffill', inplace=True)\n"
     ]
    }
   ],
   "source": [
    "# 3 数据处理\n",
    "# 1）缺失值处理，age、ticket 有缺失\n",
    "x['age'].fillna(x['age'].mean(), inplace=True)\n",
    "x['room'].fillna(method='ffill', inplace=True)"
   ]
  },
  {
   "cell_type": "markdown",
   "metadata": {},
   "source": [
    "Dataframe.to_dict 中 orient 参数：\n",
    "- orient =‘dict’，是函数默认的，转化后的字典形式：{column(列名) : {index(行名) : value(值) )}}；\n",
    "- orient =‘list’ ，转化后的字典形式：{column(列名) :{[ values ] (值)}};\n",
    "- orient =‘series’ ，转化后的字典形式：{column(列名) : Series (values) (值)};\n",
    "- orient =‘split’ ，转化后的字典形式：{‘index’ : [index]，‘columns’ :[columns]，’data‘ : [values]};\n",
    "- orient =‘records’ ，转化后是 list形式：[{column(列名) : value(值)}…{column:value}];\n",
    "- orient =‘index’ ，转化后的字典形式：{index(值) : {column(列名) : value(值)}};"
   ]
  },
  {
   "cell_type": "code",
   "execution_count": 60,
   "metadata": {},
   "outputs": [],
   "source": [
    "# 2）转换成字典\n",
    "x = x.to_dict(orient='records')"
   ]
  },
  {
   "cell_type": "code",
   "execution_count": 61,
   "metadata": {},
   "outputs": [
    {
     "data": {
      "text/plain": [
       "[{'pclass': '1st', 'age': 29.0, 'room': 'B-5', 'sex': 'female'},\n",
       " {'pclass': '1st', 'age': 2.0, 'room': 'C26', 'sex': 'female'},\n",
       " {'pclass': '1st', 'age': 30.0, 'room': 'C26', 'sex': 'male'},\n",
       " {'pclass': '1st', 'age': 25.0, 'room': 'C26', 'sex': 'female'},\n",
       " {'pclass': '1st', 'age': 0.9167, 'room': 'C22', 'sex': 'male'}]"
      ]
     },
     "execution_count": 61,
     "metadata": {},
     "output_type": "execute_result"
    }
   ],
   "source": [
    "x[:5]  # 显示前5条"
   ]
  },
  {
   "cell_type": "code",
   "execution_count": 62,
   "metadata": {},
   "outputs": [],
   "source": [
    "# 4 划分数据集\n",
    "from sklearn.model_selection import train_test_split\n",
    "\n",
    "x_train, x_test, y_train, y_test = train_test_split(x, y, random_state=22)"
   ]
  },
  {
   "cell_type": "code",
   "execution_count": 63,
   "metadata": {},
   "outputs": [],
   "source": [
    "# 5 字典特征抽取\n",
    "from sklearn.feature_extraction import DictVectorizer\n",
    "\n",
    "transfer = DictVectorizer()\n",
    "x_train = transfer.fit_transform(x_train)\n",
    "x_test = transfer.transform(x_test)"
   ]
  },
  {
   "cell_type": "code",
   "execution_count": 64,
   "metadata": {},
   "outputs": [
    {
     "data": {
      "text/html": [
       "<style>#sk-container-id-3 {color: black;background-color: white;}#sk-container-id-3 pre{padding: 0;}#sk-container-id-3 div.sk-toggleable {background-color: white;}#sk-container-id-3 label.sk-toggleable__label {cursor: pointer;display: block;width: 100%;margin-bottom: 0;padding: 0.3em;box-sizing: border-box;text-align: center;}#sk-container-id-3 label.sk-toggleable__label-arrow:before {content: \"▸\";float: left;margin-right: 0.25em;color: #696969;}#sk-container-id-3 label.sk-toggleable__label-arrow:hover:before {color: black;}#sk-container-id-3 div.sk-estimator:hover label.sk-toggleable__label-arrow:before {color: black;}#sk-container-id-3 div.sk-toggleable__content {max-height: 0;max-width: 0;overflow: hidden;text-align: left;background-color: #f0f8ff;}#sk-container-id-3 div.sk-toggleable__content pre {margin: 0.2em;color: black;border-radius: 0.25em;background-color: #f0f8ff;}#sk-container-id-3 input.sk-toggleable__control:checked~div.sk-toggleable__content {max-height: 200px;max-width: 100%;overflow: auto;}#sk-container-id-3 input.sk-toggleable__control:checked~label.sk-toggleable__label-arrow:before {content: \"▾\";}#sk-container-id-3 div.sk-estimator input.sk-toggleable__control:checked~label.sk-toggleable__label {background-color: #d4ebff;}#sk-container-id-3 div.sk-label input.sk-toggleable__control:checked~label.sk-toggleable__label {background-color: #d4ebff;}#sk-container-id-3 input.sk-hidden--visually {border: 0;clip: rect(1px 1px 1px 1px);clip: rect(1px, 1px, 1px, 1px);height: 1px;margin: -1px;overflow: hidden;padding: 0;position: absolute;width: 1px;}#sk-container-id-3 div.sk-estimator {font-family: monospace;background-color: #f0f8ff;border: 1px dotted black;border-radius: 0.25em;box-sizing: border-box;margin-bottom: 0.5em;}#sk-container-id-3 div.sk-estimator:hover {background-color: #d4ebff;}#sk-container-id-3 div.sk-parallel-item::after {content: \"\";width: 100%;border-bottom: 1px solid gray;flex-grow: 1;}#sk-container-id-3 div.sk-label:hover label.sk-toggleable__label {background-color: #d4ebff;}#sk-container-id-3 div.sk-serial::before {content: \"\";position: absolute;border-left: 1px solid gray;box-sizing: border-box;top: 0;bottom: 0;left: 50%;z-index: 0;}#sk-container-id-3 div.sk-serial {display: flex;flex-direction: column;align-items: center;background-color: white;padding-right: 0.2em;padding-left: 0.2em;position: relative;}#sk-container-id-3 div.sk-item {position: relative;z-index: 1;}#sk-container-id-3 div.sk-parallel {display: flex;align-items: stretch;justify-content: center;background-color: white;position: relative;}#sk-container-id-3 div.sk-item::before, #sk-container-id-3 div.sk-parallel-item::before {content: \"\";position: absolute;border-left: 1px solid gray;box-sizing: border-box;top: 0;bottom: 0;left: 50%;z-index: -1;}#sk-container-id-3 div.sk-parallel-item {display: flex;flex-direction: column;z-index: 1;position: relative;background-color: white;}#sk-container-id-3 div.sk-parallel-item:first-child::after {align-self: flex-end;width: 50%;}#sk-container-id-3 div.sk-parallel-item:last-child::after {align-self: flex-start;width: 50%;}#sk-container-id-3 div.sk-parallel-item:only-child::after {width: 0;}#sk-container-id-3 div.sk-dashed-wrapped {border: 1px dashed gray;margin: 0 0.4em 0.5em 0.4em;box-sizing: border-box;padding-bottom: 0.4em;background-color: white;}#sk-container-id-3 div.sk-label label {font-family: monospace;font-weight: bold;display: inline-block;line-height: 1.2em;}#sk-container-id-3 div.sk-label-container {text-align: center;}#sk-container-id-3 div.sk-container {/* jupyter's `normalize.less` sets `[hidden] { display: none; }` but bootstrap.min.css set `[hidden] { display: none !important; }` so we also need the `!important` here to be able to override the default hidden behavior on the sphinx rendered scikit-learn.org. See: https://github.com/scikit-learn/scikit-learn/issues/21755 */display: inline-block !important;position: relative;}#sk-container-id-3 div.sk-text-repr-fallback {display: none;}</style><div id=\"sk-container-id-3\" class=\"sk-top-container\"><div class=\"sk-text-repr-fallback\"><pre>GridSearchCV(cv=10, estimator=DecisionTreeClassifier(),\n",
       "             param_grid={&#x27;max_depth&#x27;: [5, 6, 7, 8, 9, 10, 11, 12, 13, 14]})</pre><b>In a Jupyter environment, please rerun this cell to show the HTML representation or trust the notebook. <br />On GitHub, the HTML representation is unable to render, please try loading this page with nbviewer.org.</b></div><div class=\"sk-container\" hidden><div class=\"sk-item sk-dashed-wrapped\"><div class=\"sk-label-container\"><div class=\"sk-label sk-toggleable\"><input class=\"sk-toggleable__control sk-hidden--visually\" id=\"sk-estimator-id-3\" type=\"checkbox\" ><label for=\"sk-estimator-id-3\" class=\"sk-toggleable__label sk-toggleable__label-arrow\">GridSearchCV</label><div class=\"sk-toggleable__content\"><pre>GridSearchCV(cv=10, estimator=DecisionTreeClassifier(),\n",
       "             param_grid={&#x27;max_depth&#x27;: [5, 6, 7, 8, 9, 10, 11, 12, 13, 14]})</pre></div></div></div><div class=\"sk-parallel\"><div class=\"sk-parallel-item\"><div class=\"sk-item\"><div class=\"sk-label-container\"><div class=\"sk-label sk-toggleable\"><input class=\"sk-toggleable__control sk-hidden--visually\" id=\"sk-estimator-id-4\" type=\"checkbox\" ><label for=\"sk-estimator-id-4\" class=\"sk-toggleable__label sk-toggleable__label-arrow\">estimator: DecisionTreeClassifier</label><div class=\"sk-toggleable__content\"><pre>DecisionTreeClassifier()</pre></div></div></div><div class=\"sk-serial\"><div class=\"sk-item\"><div class=\"sk-estimator sk-toggleable\"><input class=\"sk-toggleable__control sk-hidden--visually\" id=\"sk-estimator-id-5\" type=\"checkbox\" ><label for=\"sk-estimator-id-5\" class=\"sk-toggleable__label sk-toggleable__label-arrow\">DecisionTreeClassifier</label><div class=\"sk-toggleable__content\"><pre>DecisionTreeClassifier()</pre></div></div></div></div></div></div></div></div></div></div>"
      ],
      "text/plain": [
       "GridSearchCV(cv=10, estimator=DecisionTreeClassifier(),\n",
       "             param_grid={'max_depth': [5, 6, 7, 8, 9, 10, 11, 12, 13, 14]})"
      ]
     },
     "execution_count": 64,
     "metadata": {},
     "output_type": "execute_result"
    }
   ],
   "source": [
    "# 6 决策树预估器\n",
    "from sklearn.tree import DecisionTreeClassifier\n",
    "from sklearn.model_selection import GridSearchCV\n",
    "\n",
    "estimator = DecisionTreeClassifier()  # 可调超参数：criterion，max_depth\n",
    "param_dict = {'max_depth': list(range(5, 15))}\n",
    "estimator = GridSearchCV(estimator=estimator, param_grid=param_dict, cv=10)\n",
    "estimator.fit(x_train, y_train)"
   ]
  },
  {
   "cell_type": "code",
   "execution_count": 65,
   "metadata": {},
   "outputs": [
    {
     "name": "stdout",
     "output_type": "stream",
     "text": [
      "y_predict:\n",
      " [0 0 0 0 1 1 1 0 0 0 0 0 0 0 0 0 0 0 0 0 0 0 0 0 1 0 0 0 1 1 0 1 0 1 0 0 0\n",
      " 0 0 0 0 0 0 0 0 0 1 1 0 1 0 0 0 0 0 0 0 0 0 0 0 0 0 0 0 0 0 1 0 0 1 0 0 0\n",
      " 0 1 0 0 0 1 0 1 0 0 0 0 0 0 0 0 0 0 0 1 0 1 0 1 0 1 0 0 0 0 0 0 0 0 0 0 1\n",
      " 0 1 0 0 0 0 0 0 0 0 0 1 0 0 1 0 0 1 0 0 0 0 0 0 0 0 0 0 0 1 1 0 0 0 0 1 1\n",
      " 1 0 0 0 0 1 0 0 0 0 0 0 0 0 1 0 0 1 0 0 0 0 1 0 0 0 0 0 1 1 1 1 0 0 0 0 0\n",
      " 0 0 0 1 1 1 0 0 0 0 1 1 1 0 0 0 0 0 0 0 0 0 1 0 0 0 0 0 1 1 0 0 0 0 0 1 0\n",
      " 0 0 1 0 0 0 0 0 0 1 0 0 0 0 1 0 1 0 0 0 1 0 0 1 0 0 0 0 1 0 1 0 0 0 0 1 0\n",
      " 0 1 1 1 0 0 1 0 1 0 1 0 0 0 0 0 0 0 1 0 0 0 0 0 0 0 0 0 0 0 1 0 0 0 0 1 1\n",
      " 0 0 0 1 0 0 0 0 0 0 0 0 0 0 0 0 0 1 0 0 0 0 0 0 1 1 0 1 0 0 0 0 1]\n",
      "y_test:\n",
      " [0 0 0 0 1 1 1 0 0 1 0 0 1 1 0 1 0 1 0 1 0 1 0 0 1 0 0 0 1 1 0 1 0 1 0 0 0\n",
      " 1 0 0 0 0 0 0 0 1 1 1 0 1 1 0 0 0 0 0 0 0 0 0 0 1 1 0 0 1 0 1 1 0 1 0 1 0\n",
      " 1 1 0 0 0 1 0 1 0 0 0 0 0 1 0 0 1 0 0 0 0 0 0 1 0 1 0 0 0 1 1 0 1 0 1 0 1\n",
      " 0 0 1 0 1 1 0 1 1 0 1 0 0 1 1 1 1 1 0 0 1 0 0 0 0 0 0 0 1 1 1 0 0 0 0 1 1\n",
      " 1 0 1 0 0 0 0 0 1 1 0 0 0 0 1 0 0 1 0 0 0 0 1 0 0 0 1 0 1 1 1 1 0 0 0 0 0\n",
      " 0 0 0 1 0 0 1 0 1 0 1 1 1 0 0 0 1 0 0 0 0 0 1 0 0 0 0 0 1 1 0 0 0 0 0 0 0\n",
      " 0 1 1 0 0 0 0 0 1 1 0 0 1 1 1 0 0 0 0 0 1 0 0 1 0 0 0 1 1 0 0 0 0 1 1 1 0\n",
      " 0 1 1 1 1 0 1 0 1 0 1 1 0 0 0 1 0 0 1 0 1 0 0 0 0 0 0 0 0 0 0 1 1 0 0 1 1\n",
      " 0 0 0 1 0 0 1 1 1 0 0 0 0 0 0 0 0 1 0 0 1 0 0 0 1 0 0 1 0 1 0 1 1]\n",
      "直接比对真实值和预测值：\n",
      " [ True  True  True  True  True  True  True  True  True False  True  True\n",
      " False False  True False  True False  True False  True False  True  True\n",
      "  True  True  True  True  True  True  True  True  True  True  True  True\n",
      "  True False  True  True  True  True  True  True  True False  True  True\n",
      "  True  True False  True  True  True  True  True  True  True  True  True\n",
      "  True False False  True  True False  True  True False  True  True  True\n",
      " False  True False  True  True  True  True  True  True  True  True  True\n",
      "  True  True  True False  True  True False  True  True False  True False\n",
      "  True  True  True  True  True  True  True False False  True False  True\n",
      " False  True  True  True False False  True False False  True False False\n",
      "  True False False  True False  True False False  True  True  True False\n",
      "  True  True  True  True  True  True  True False  True  True  True  True\n",
      "  True  True  True  True  True  True False  True  True False  True  True\n",
      " False False  True  True  True  True  True  True  True  True  True  True\n",
      "  True  True  True  True  True  True False  True  True  True  True  True\n",
      "  True  True  True  True  True  True  True  True  True False False False\n",
      "  True False  True  True  True  True  True  True  True False  True  True\n",
      "  True  True  True  True  True  True  True  True  True  True  True  True\n",
      "  True  True  True  True False  True  True False  True  True  True  True\n",
      "  True  True False  True  True  True False False  True  True False  True\n",
      "  True  True  True  True  True  True  True  True  True False  True  True\n",
      " False  True  True False False  True  True  True  True  True  True False\n",
      "  True  True  True  True  True  True False  True  True  True False  True\n",
      "  True  True  True False  True  True  True  True  True  True  True  True\n",
      "  True False False False  True  True  True  True  True  True  True  True\n",
      "  True  True False False False  True  True  True  True  True  True  True\n",
      "  True  True  True  True False  True  True  True  True False  True  True\n",
      "  True False  True False  True]\n",
      "准确率为：\n",
      " 0.78419452887538\n"
     ]
    }
   ],
   "source": [
    "# 7 模型评估(测试集)\n",
    "from sklearn.tree import export_graphviz\n",
    "\n",
    "y_predict = estimator.predict(x_test)\n",
    "print('y_predict:\\n', y_predict)\n",
    "print('y_test:\\n', y_test.values)\n",
    "print('直接比对真实值和预测值：\\n', y_test.values == y_predict)\n",
    "\n",
    "print('准确率为：\\n', estimator.score(x_test, y_test))"
   ]
  },
  {
   "cell_type": "code",
   "execution_count": 66,
   "metadata": {},
   "outputs": [
    {
     "name": "stdout",
     "output_type": "stream",
     "text": [
      "最佳参数:\n"
     ]
    },
    {
     "data": {
      "text/plain": [
       "{'max_depth': 6}"
      ]
     },
     "execution_count": 66,
     "metadata": {},
     "output_type": "execute_result"
    }
   ],
   "source": [
    "# 训练验证集的结果\n",
    "\n",
    "print(\"最佳参数:\")\n",
    "estimator.best_params_"
   ]
  },
  {
   "cell_type": "code",
   "execution_count": 67,
   "metadata": {},
   "outputs": [
    {
     "name": "stdout",
     "output_type": "stream",
     "text": [
      "最佳估计器:\n"
     ]
    },
    {
     "data": {
      "text/html": [
       "<style>#sk-container-id-4 {color: black;background-color: white;}#sk-container-id-4 pre{padding: 0;}#sk-container-id-4 div.sk-toggleable {background-color: white;}#sk-container-id-4 label.sk-toggleable__label {cursor: pointer;display: block;width: 100%;margin-bottom: 0;padding: 0.3em;box-sizing: border-box;text-align: center;}#sk-container-id-4 label.sk-toggleable__label-arrow:before {content: \"▸\";float: left;margin-right: 0.25em;color: #696969;}#sk-container-id-4 label.sk-toggleable__label-arrow:hover:before {color: black;}#sk-container-id-4 div.sk-estimator:hover label.sk-toggleable__label-arrow:before {color: black;}#sk-container-id-4 div.sk-toggleable__content {max-height: 0;max-width: 0;overflow: hidden;text-align: left;background-color: #f0f8ff;}#sk-container-id-4 div.sk-toggleable__content pre {margin: 0.2em;color: black;border-radius: 0.25em;background-color: #f0f8ff;}#sk-container-id-4 input.sk-toggleable__control:checked~div.sk-toggleable__content {max-height: 200px;max-width: 100%;overflow: auto;}#sk-container-id-4 input.sk-toggleable__control:checked~label.sk-toggleable__label-arrow:before {content: \"▾\";}#sk-container-id-4 div.sk-estimator input.sk-toggleable__control:checked~label.sk-toggleable__label {background-color: #d4ebff;}#sk-container-id-4 div.sk-label input.sk-toggleable__control:checked~label.sk-toggleable__label {background-color: #d4ebff;}#sk-container-id-4 input.sk-hidden--visually {border: 0;clip: rect(1px 1px 1px 1px);clip: rect(1px, 1px, 1px, 1px);height: 1px;margin: -1px;overflow: hidden;padding: 0;position: absolute;width: 1px;}#sk-container-id-4 div.sk-estimator {font-family: monospace;background-color: #f0f8ff;border: 1px dotted black;border-radius: 0.25em;box-sizing: border-box;margin-bottom: 0.5em;}#sk-container-id-4 div.sk-estimator:hover {background-color: #d4ebff;}#sk-container-id-4 div.sk-parallel-item::after {content: \"\";width: 100%;border-bottom: 1px solid gray;flex-grow: 1;}#sk-container-id-4 div.sk-label:hover label.sk-toggleable__label {background-color: #d4ebff;}#sk-container-id-4 div.sk-serial::before {content: \"\";position: absolute;border-left: 1px solid gray;box-sizing: border-box;top: 0;bottom: 0;left: 50%;z-index: 0;}#sk-container-id-4 div.sk-serial {display: flex;flex-direction: column;align-items: center;background-color: white;padding-right: 0.2em;padding-left: 0.2em;position: relative;}#sk-container-id-4 div.sk-item {position: relative;z-index: 1;}#sk-container-id-4 div.sk-parallel {display: flex;align-items: stretch;justify-content: center;background-color: white;position: relative;}#sk-container-id-4 div.sk-item::before, #sk-container-id-4 div.sk-parallel-item::before {content: \"\";position: absolute;border-left: 1px solid gray;box-sizing: border-box;top: 0;bottom: 0;left: 50%;z-index: -1;}#sk-container-id-4 div.sk-parallel-item {display: flex;flex-direction: column;z-index: 1;position: relative;background-color: white;}#sk-container-id-4 div.sk-parallel-item:first-child::after {align-self: flex-end;width: 50%;}#sk-container-id-4 div.sk-parallel-item:last-child::after {align-self: flex-start;width: 50%;}#sk-container-id-4 div.sk-parallel-item:only-child::after {width: 0;}#sk-container-id-4 div.sk-dashed-wrapped {border: 1px dashed gray;margin: 0 0.4em 0.5em 0.4em;box-sizing: border-box;padding-bottom: 0.4em;background-color: white;}#sk-container-id-4 div.sk-label label {font-family: monospace;font-weight: bold;display: inline-block;line-height: 1.2em;}#sk-container-id-4 div.sk-label-container {text-align: center;}#sk-container-id-4 div.sk-container {/* jupyter's `normalize.less` sets `[hidden] { display: none; }` but bootstrap.min.css set `[hidden] { display: none !important; }` so we also need the `!important` here to be able to override the default hidden behavior on the sphinx rendered scikit-learn.org. See: https://github.com/scikit-learn/scikit-learn/issues/21755 */display: inline-block !important;position: relative;}#sk-container-id-4 div.sk-text-repr-fallback {display: none;}</style><div id=\"sk-container-id-4\" class=\"sk-top-container\"><div class=\"sk-text-repr-fallback\"><pre>DecisionTreeClassifier(max_depth=6)</pre><b>In a Jupyter environment, please rerun this cell to show the HTML representation or trust the notebook. <br />On GitHub, the HTML representation is unable to render, please try loading this page with nbviewer.org.</b></div><div class=\"sk-container\" hidden><div class=\"sk-item\"><div class=\"sk-estimator sk-toggleable\"><input class=\"sk-toggleable__control sk-hidden--visually\" id=\"sk-estimator-id-6\" type=\"checkbox\" checked><label for=\"sk-estimator-id-6\" class=\"sk-toggleable__label sk-toggleable__label-arrow\">DecisionTreeClassifier</label><div class=\"sk-toggleable__content\"><pre>DecisionTreeClassifier(max_depth=6)</pre></div></div></div></div></div>"
      ],
      "text/plain": [
       "DecisionTreeClassifier(max_depth=6)"
      ]
     },
     "execution_count": 67,
     "metadata": {},
     "output_type": "execute_result"
    }
   ],
   "source": [
    "print('最佳估计器:')\n",
    "estimator.best_estimator_"
   ]
  },
  {
   "cell_type": "code",
   "execution_count": 68,
   "metadata": {},
   "outputs": [
    {
     "name": "stdout",
     "output_type": "stream",
     "text": [
      "最佳结果（在验证集中的结果）:\n"
     ]
    },
    {
     "data": {
      "text/plain": [
       "0.8343537414965987"
      ]
     },
     "execution_count": 68,
     "metadata": {},
     "output_type": "execute_result"
    }
   ],
   "source": [
    "# 最佳结果\n",
    "print(\"最佳结果（在验证集中的结果）:\")\n",
    "estimator.best_score_"
   ]
  },
  {
   "cell_type": "code",
   "execution_count": 69,
   "metadata": {},
   "outputs": [
    {
     "name": "stdout",
     "output_type": "stream",
     "text": [
      "交叉验证结果:\n"
     ]
    },
    {
     "data": {
      "text/plain": [
       "{'mean_fit_time': array([0.00250127, 0.00219836, 0.00233819, 0.00250142, 0.00290055,\n",
       "        0.00289905, 0.00320046, 0.00310361, 0.00309248, 0.00300016]),\n",
       " 'std_fit_time': array([4.98136256e-04, 3.98456471e-04, 4.46784884e-04, 5.01803657e-04,\n",
       "        2.96674917e-04, 3.00386675e-04, 6.00446066e-04, 5.35578428e-04,\n",
       "        5.37781767e-04, 6.91183644e-06]),\n",
       " 'mean_score_time': array([0.00089924, 0.00080123, 0.00039968, 0.00059934, 0.00049884,\n",
       "        0.00049932, 0.00060077, 0.00069926, 0.00050232, 0.00099981]),\n",
       " 'std_score_time': array([2.99765549e-04, 4.00623192e-04, 4.89514768e-04, 4.89360308e-04,\n",
       "        4.98859084e-04, 4.99322473e-04, 4.90529558e-04, 4.57773413e-04,\n",
       "        5.02341320e-04, 4.02496887e-07]),\n",
       " 'param_max_depth': masked_array(data=[5, 6, 7, 8, 9, 10, 11, 12, 13, 14],\n",
       "              mask=[False, False, False, False, False, False, False, False,\n",
       "                    False, False],\n",
       "        fill_value='?',\n",
       "             dtype=object),\n",
       " 'params': [{'max_depth': 5},\n",
       "  {'max_depth': 6},\n",
       "  {'max_depth': 7},\n",
       "  {'max_depth': 8},\n",
       "  {'max_depth': 9},\n",
       "  {'max_depth': 10},\n",
       "  {'max_depth': 11},\n",
       "  {'max_depth': 12},\n",
       "  {'max_depth': 13},\n",
       "  {'max_depth': 14}],\n",
       " 'split0_test_score': array([0.85858586, 0.84848485, 0.84848485, 0.84848485, 0.82828283,\n",
       "        0.83838384, 0.82828283, 0.81818182, 0.81818182, 0.81818182]),\n",
       " 'split1_test_score': array([0.80808081, 0.81818182, 0.78787879, 0.78787879, 0.76767677,\n",
       "        0.77777778, 0.76767677, 0.76767677, 0.76767677, 0.75757576]),\n",
       " 'split2_test_score': array([0.83838384, 0.85858586, 0.84848485, 0.84848485, 0.84848485,\n",
       "        0.84848485, 0.83838384, 0.83838384, 0.84848485, 0.83838384]),\n",
       " 'split3_test_score': array([0.80808081, 0.80808081, 0.7979798 , 0.76767677, 0.76767677,\n",
       "        0.75757576, 0.75757576, 0.72727273, 0.72727273, 0.73737374]),\n",
       " 'split4_test_score': array([0.84693878, 0.85714286, 0.85714286, 0.84693878, 0.84693878,\n",
       "        0.84693878, 0.84693878, 0.86734694, 0.84693878, 0.84693878]),\n",
       " 'split5_test_score': array([0.84693878, 0.84693878, 0.84693878, 0.83673469, 0.86734694,\n",
       "        0.83673469, 0.85714286, 0.83673469, 0.84693878, 0.85714286]),\n",
       " 'split6_test_score': array([0.85714286, 0.86734694, 0.87755102, 0.87755102, 0.84693878,\n",
       "        0.82653061, 0.81632653, 0.82653061, 0.81632653, 0.82653061]),\n",
       " 'split7_test_score': array([0.83673469, 0.82653061, 0.81632653, 0.81632653, 0.81632653,\n",
       "        0.81632653, 0.80612245, 0.80612245, 0.80612245, 0.80612245]),\n",
       " 'split8_test_score': array([0.79591837, 0.79591837, 0.78571429, 0.78571429, 0.79591837,\n",
       "        0.7755102 , 0.7755102 , 0.7755102 , 0.7755102 , 0.7755102 ]),\n",
       " 'split9_test_score': array([0.82653061, 0.81632653, 0.82653061, 0.83673469, 0.82653061,\n",
       "        0.81632653, 0.81632653, 0.80612245, 0.80612245, 0.80612245]),\n",
       " 'mean_test_score': array([0.83233354, 0.83435374, 0.82930324, 0.82525253, 0.82121212,\n",
       "        0.81405896, 0.81102865, 0.80698825, 0.80595753, 0.80698825]),\n",
       " 'std_test_score': array([0.02079283, 0.02316985, 0.02987138, 0.03302014, 0.03266487,\n",
       "        0.0308717 , 0.03246603, 0.03861765, 0.03742761, 0.03726198]),\n",
       " 'rank_test_score': array([ 2,  1,  3,  4,  5,  6,  7,  8, 10,  8])}"
      ]
     },
     "execution_count": 69,
     "metadata": {},
     "output_type": "execute_result"
    }
   ],
   "source": [
    "# 交叉验证结果\n",
    "print(\"交叉验证结果:\")\n",
    "estimator.cv_results_"
   ]
  },
  {
   "cell_type": "markdown",
   "metadata": {},
   "source": [
    "### **随机森林**\n",
    "链接：[随机森林分类模型详解](https://www.showmeai.tech/tutorials/34?articleId=191)"
   ]
  },
  {
   "cell_type": "code",
   "execution_count": 70,
   "metadata": {},
   "outputs": [
    {
     "data": {
      "text/html": [
       "<style>#sk-container-id-5 {color: black;background-color: white;}#sk-container-id-5 pre{padding: 0;}#sk-container-id-5 div.sk-toggleable {background-color: white;}#sk-container-id-5 label.sk-toggleable__label {cursor: pointer;display: block;width: 100%;margin-bottom: 0;padding: 0.3em;box-sizing: border-box;text-align: center;}#sk-container-id-5 label.sk-toggleable__label-arrow:before {content: \"▸\";float: left;margin-right: 0.25em;color: #696969;}#sk-container-id-5 label.sk-toggleable__label-arrow:hover:before {color: black;}#sk-container-id-5 div.sk-estimator:hover label.sk-toggleable__label-arrow:before {color: black;}#sk-container-id-5 div.sk-toggleable__content {max-height: 0;max-width: 0;overflow: hidden;text-align: left;background-color: #f0f8ff;}#sk-container-id-5 div.sk-toggleable__content pre {margin: 0.2em;color: black;border-radius: 0.25em;background-color: #f0f8ff;}#sk-container-id-5 input.sk-toggleable__control:checked~div.sk-toggleable__content {max-height: 200px;max-width: 100%;overflow: auto;}#sk-container-id-5 input.sk-toggleable__control:checked~label.sk-toggleable__label-arrow:before {content: \"▾\";}#sk-container-id-5 div.sk-estimator input.sk-toggleable__control:checked~label.sk-toggleable__label {background-color: #d4ebff;}#sk-container-id-5 div.sk-label input.sk-toggleable__control:checked~label.sk-toggleable__label {background-color: #d4ebff;}#sk-container-id-5 input.sk-hidden--visually {border: 0;clip: rect(1px 1px 1px 1px);clip: rect(1px, 1px, 1px, 1px);height: 1px;margin: -1px;overflow: hidden;padding: 0;position: absolute;width: 1px;}#sk-container-id-5 div.sk-estimator {font-family: monospace;background-color: #f0f8ff;border: 1px dotted black;border-radius: 0.25em;box-sizing: border-box;margin-bottom: 0.5em;}#sk-container-id-5 div.sk-estimator:hover {background-color: #d4ebff;}#sk-container-id-5 div.sk-parallel-item::after {content: \"\";width: 100%;border-bottom: 1px solid gray;flex-grow: 1;}#sk-container-id-5 div.sk-label:hover label.sk-toggleable__label {background-color: #d4ebff;}#sk-container-id-5 div.sk-serial::before {content: \"\";position: absolute;border-left: 1px solid gray;box-sizing: border-box;top: 0;bottom: 0;left: 50%;z-index: 0;}#sk-container-id-5 div.sk-serial {display: flex;flex-direction: column;align-items: center;background-color: white;padding-right: 0.2em;padding-left: 0.2em;position: relative;}#sk-container-id-5 div.sk-item {position: relative;z-index: 1;}#sk-container-id-5 div.sk-parallel {display: flex;align-items: stretch;justify-content: center;background-color: white;position: relative;}#sk-container-id-5 div.sk-item::before, #sk-container-id-5 div.sk-parallel-item::before {content: \"\";position: absolute;border-left: 1px solid gray;box-sizing: border-box;top: 0;bottom: 0;left: 50%;z-index: -1;}#sk-container-id-5 div.sk-parallel-item {display: flex;flex-direction: column;z-index: 1;position: relative;background-color: white;}#sk-container-id-5 div.sk-parallel-item:first-child::after {align-self: flex-end;width: 50%;}#sk-container-id-5 div.sk-parallel-item:last-child::after {align-self: flex-start;width: 50%;}#sk-container-id-5 div.sk-parallel-item:only-child::after {width: 0;}#sk-container-id-5 div.sk-dashed-wrapped {border: 1px dashed gray;margin: 0 0.4em 0.5em 0.4em;box-sizing: border-box;padding-bottom: 0.4em;background-color: white;}#sk-container-id-5 div.sk-label label {font-family: monospace;font-weight: bold;display: inline-block;line-height: 1.2em;}#sk-container-id-5 div.sk-label-container {text-align: center;}#sk-container-id-5 div.sk-container {/* jupyter's `normalize.less` sets `[hidden] { display: none; }` but bootstrap.min.css set `[hidden] { display: none !important; }` so we also need the `!important` here to be able to override the default hidden behavior on the sphinx rendered scikit-learn.org. See: https://github.com/scikit-learn/scikit-learn/issues/21755 */display: inline-block !important;position: relative;}#sk-container-id-5 div.sk-text-repr-fallback {display: none;}</style><div id=\"sk-container-id-5\" class=\"sk-top-container\"><div class=\"sk-text-repr-fallback\"><pre>GridSearchCV(cv=5, estimator=RandomForestClassifier(),\n",
       "             param_grid={&#x27;max_depth&#x27;: [5, 7, 9, 11, 13],\n",
       "                         &#x27;n_estimators&#x27;: [100, 200, 300]})</pre><b>In a Jupyter environment, please rerun this cell to show the HTML representation or trust the notebook. <br />On GitHub, the HTML representation is unable to render, please try loading this page with nbviewer.org.</b></div><div class=\"sk-container\" hidden><div class=\"sk-item sk-dashed-wrapped\"><div class=\"sk-label-container\"><div class=\"sk-label sk-toggleable\"><input class=\"sk-toggleable__control sk-hidden--visually\" id=\"sk-estimator-id-7\" type=\"checkbox\" ><label for=\"sk-estimator-id-7\" class=\"sk-toggleable__label sk-toggleable__label-arrow\">GridSearchCV</label><div class=\"sk-toggleable__content\"><pre>GridSearchCV(cv=5, estimator=RandomForestClassifier(),\n",
       "             param_grid={&#x27;max_depth&#x27;: [5, 7, 9, 11, 13],\n",
       "                         &#x27;n_estimators&#x27;: [100, 200, 300]})</pre></div></div></div><div class=\"sk-parallel\"><div class=\"sk-parallel-item\"><div class=\"sk-item\"><div class=\"sk-label-container\"><div class=\"sk-label sk-toggleable\"><input class=\"sk-toggleable__control sk-hidden--visually\" id=\"sk-estimator-id-8\" type=\"checkbox\" ><label for=\"sk-estimator-id-8\" class=\"sk-toggleable__label sk-toggleable__label-arrow\">estimator: RandomForestClassifier</label><div class=\"sk-toggleable__content\"><pre>RandomForestClassifier()</pre></div></div></div><div class=\"sk-serial\"><div class=\"sk-item\"><div class=\"sk-estimator sk-toggleable\"><input class=\"sk-toggleable__control sk-hidden--visually\" id=\"sk-estimator-id-9\" type=\"checkbox\" ><label for=\"sk-estimator-id-9\" class=\"sk-toggleable__label sk-toggleable__label-arrow\">RandomForestClassifier</label><div class=\"sk-toggleable__content\"><pre>RandomForestClassifier()</pre></div></div></div></div></div></div></div></div></div></div>"
      ],
      "text/plain": [
       "GridSearchCV(cv=5, estimator=RandomForestClassifier(),\n",
       "             param_grid={'max_depth': [5, 7, 9, 11, 13],\n",
       "                         'n_estimators': [100, 200, 300]})"
      ]
     },
     "execution_count": 70,
     "metadata": {},
     "output_type": "execute_result"
    }
   ],
   "source": [
    "# 沿用上面例子，直接使用 x_train, x_test, y_train, y_test\n",
    "from sklearn.ensemble import RandomForestClassifier\n",
    "from sklearn.model_selection import GridSearchCV\n",
    "\n",
    "estimator = RandomForestClassifier()\n",
    "\n",
    "# 网格搜索与超参数调优\n",
    "param_dict = {'n_estimators': list(range(100, 301, 100)),\n",
    "              'max_depth': list(range(5, 15, 2))}\n",
    "estimator = GridSearchCV(estimator=estimator, param_grid=param_dict, cv=5)\n",
    "estimator.fit(x_train, y_train)"
   ]
  },
  {
   "cell_type": "code",
   "execution_count": 71,
   "metadata": {},
   "outputs": [
    {
     "name": "stdout",
     "output_type": "stream",
     "text": [
      "y_predict:\n",
      " [0 0 0 0 1 1 1 0 0 1 0 0 0 0 0 0 0 0 0 0 0 0 0 0 1 0 0 0 1 1 0 1 0 1 0 0 0\n",
      " 0 0 0 0 0 0 0 0 0 1 1 0 1 0 0 0 0 0 0 0 0 0 0 0 0 0 0 0 0 0 1 0 0 1 0 0 0\n",
      " 1 1 0 0 0 1 0 1 0 0 0 0 0 0 0 0 0 0 0 1 0 1 0 1 0 1 0 0 0 0 0 0 0 0 0 0 1\n",
      " 0 1 0 0 0 0 0 0 0 0 0 1 0 0 1 0 0 1 0 0 0 0 0 0 0 0 0 0 0 1 1 0 0 0 0 1 1\n",
      " 1 0 0 0 0 0 0 0 0 0 0 0 0 0 1 1 0 1 0 0 0 0 1 0 0 0 0 0 1 1 1 1 0 0 0 0 0\n",
      " 0 0 0 1 1 1 0 0 0 0 1 1 1 0 0 0 0 0 0 0 0 0 1 0 0 0 0 0 1 1 0 0 0 0 0 1 0\n",
      " 0 0 1 0 0 0 0 0 0 1 0 0 0 0 1 0 1 0 0 0 1 0 0 1 0 0 0 0 1 0 1 0 0 0 0 1 0\n",
      " 0 1 1 1 0 0 1 0 1 0 1 0 0 0 0 0 0 0 1 0 0 0 0 0 0 0 0 0 0 0 1 0 0 0 0 1 1\n",
      " 0 0 0 1 0 0 0 0 0 0 0 0 0 0 0 0 0 1 0 0 0 0 0 0 1 1 0 1 0 0 0 0 1]\n",
      "y_test:\n",
      " [0 0 0 0 1 1 1 0 0 1 0 0 1 1 0 1 0 1 0 1 0 1 0 0 1 0 0 0 1 1 0 1 0 1 0 0 0\n",
      " 1 0 0 0 0 0 0 0 1 1 1 0 1 1 0 0 0 0 0 0 0 0 0 0 1 1 0 0 1 0 1 1 0 1 0 1 0\n",
      " 1 1 0 0 0 1 0 1 0 0 0 0 0 1 0 0 1 0 0 0 0 0 0 1 0 1 0 0 0 1 1 0 1 0 1 0 1\n",
      " 0 0 1 0 1 1 0 1 1 0 1 0 0 1 1 1 1 1 0 0 1 0 0 0 0 0 0 0 1 1 1 0 0 0 0 1 1\n",
      " 1 0 1 0 0 0 0 0 1 1 0 0 0 0 1 0 0 1 0 0 0 0 1 0 0 0 1 0 1 1 1 1 0 0 0 0 0\n",
      " 0 0 0 1 0 0 1 0 1 0 1 1 1 0 0 0 1 0 0 0 0 0 1 0 0 0 0 0 1 1 0 0 0 0 0 0 0\n",
      " 0 1 1 0 0 0 0 0 1 1 0 0 1 1 1 0 0 0 0 0 1 0 0 1 0 0 0 1 1 0 0 0 0 1 1 1 0\n",
      " 0 1 1 1 1 0 1 0 1 0 1 1 0 0 0 1 0 0 1 0 1 0 0 0 0 0 0 0 0 0 0 1 1 0 0 1 1\n",
      " 0 0 0 1 0 0 1 1 1 0 0 0 0 0 0 0 0 1 0 0 1 0 0 0 1 0 0 1 0 1 0 1 1]\n",
      "直接比对真实值和预测值：\n",
      " [ True  True  True  True  True  True  True  True  True  True  True  True\n",
      " False False  True False  True False  True False  True False  True  True\n",
      "  True  True  True  True  True  True  True  True  True  True  True  True\n",
      "  True False  True  True  True  True  True  True  True False  True  True\n",
      "  True  True False  True  True  True  True  True  True  True  True  True\n",
      "  True False False  True  True False  True  True False  True  True  True\n",
      " False  True  True  True  True  True  True  True  True  True  True  True\n",
      "  True  True  True False  True  True False  True  True False  True False\n",
      "  True  True  True  True  True  True  True False False  True False  True\n",
      " False  True  True  True False False  True False False  True False False\n",
      "  True False False  True False  True False False  True  True  True False\n",
      "  True  True  True  True  True  True  True False  True  True  True  True\n",
      "  True  True  True  True  True  True False  True  True  True  True  True\n",
      " False False  True  True  True  True  True False  True  True  True  True\n",
      "  True  True  True  True  True  True False  True  True  True  True  True\n",
      "  True  True  True  True  True  True  True  True  True False False False\n",
      "  True False  True  True  True  True  True  True  True False  True  True\n",
      "  True  True  True  True  True  True  True  True  True  True  True  True\n",
      "  True  True  True  True False  True  True False  True  True  True  True\n",
      "  True  True False  True  True  True False False  True  True False  True\n",
      "  True  True  True  True  True  True  True  True  True False  True  True\n",
      " False  True  True False False  True  True  True  True  True  True False\n",
      "  True  True  True  True  True  True False  True  True  True False  True\n",
      "  True  True  True False  True  True  True  True  True  True  True  True\n",
      "  True False False False  True  True  True  True  True  True  True  True\n",
      "  True  True False False False  True  True  True  True  True  True  True\n",
      "  True  True  True  True False  True  True  True  True False  True  True\n",
      "  True False  True False  True]\n",
      "准确率为：\n",
      " 0.790273556231003\n"
     ]
    }
   ],
   "source": [
    "# 模型评估(测试集)\n",
    "from sklearn.tree import export_graphviz\n",
    "\n",
    "y_predict = estimator.predict(x_test)\n",
    "print('y_predict:\\n', y_predict)\n",
    "print('y_test:\\n', y_test.values)\n",
    "print('直接比对真实值和预测值：\\n', y_test.values == y_predict)\n",
    "\n",
    "print('准确率为：\\n', estimator.score(x_test, y_test))"
   ]
  },
  {
   "cell_type": "code",
   "execution_count": 72,
   "metadata": {},
   "outputs": [
    {
     "name": "stdout",
     "output_type": "stream",
     "text": [
      "最佳参数:\n"
     ]
    },
    {
     "data": {
      "text/plain": [
       "{'max_depth': 7, 'n_estimators': 200}"
      ]
     },
     "execution_count": 72,
     "metadata": {},
     "output_type": "execute_result"
    }
   ],
   "source": [
    "# 训练验证集的结果\n",
    "\n",
    "print(\"最佳参数:\")\n",
    "estimator.best_params_"
   ]
  },
  {
   "cell_type": "code",
   "execution_count": 73,
   "metadata": {},
   "outputs": [
    {
     "name": "stdout",
     "output_type": "stream",
     "text": [
      "最佳估计器:\n"
     ]
    },
    {
     "data": {
      "text/html": [
       "<style>#sk-container-id-6 {color: black;background-color: white;}#sk-container-id-6 pre{padding: 0;}#sk-container-id-6 div.sk-toggleable {background-color: white;}#sk-container-id-6 label.sk-toggleable__label {cursor: pointer;display: block;width: 100%;margin-bottom: 0;padding: 0.3em;box-sizing: border-box;text-align: center;}#sk-container-id-6 label.sk-toggleable__label-arrow:before {content: \"▸\";float: left;margin-right: 0.25em;color: #696969;}#sk-container-id-6 label.sk-toggleable__label-arrow:hover:before {color: black;}#sk-container-id-6 div.sk-estimator:hover label.sk-toggleable__label-arrow:before {color: black;}#sk-container-id-6 div.sk-toggleable__content {max-height: 0;max-width: 0;overflow: hidden;text-align: left;background-color: #f0f8ff;}#sk-container-id-6 div.sk-toggleable__content pre {margin: 0.2em;color: black;border-radius: 0.25em;background-color: #f0f8ff;}#sk-container-id-6 input.sk-toggleable__control:checked~div.sk-toggleable__content {max-height: 200px;max-width: 100%;overflow: auto;}#sk-container-id-6 input.sk-toggleable__control:checked~label.sk-toggleable__label-arrow:before {content: \"▾\";}#sk-container-id-6 div.sk-estimator input.sk-toggleable__control:checked~label.sk-toggleable__label {background-color: #d4ebff;}#sk-container-id-6 div.sk-label input.sk-toggleable__control:checked~label.sk-toggleable__label {background-color: #d4ebff;}#sk-container-id-6 input.sk-hidden--visually {border: 0;clip: rect(1px 1px 1px 1px);clip: rect(1px, 1px, 1px, 1px);height: 1px;margin: -1px;overflow: hidden;padding: 0;position: absolute;width: 1px;}#sk-container-id-6 div.sk-estimator {font-family: monospace;background-color: #f0f8ff;border: 1px dotted black;border-radius: 0.25em;box-sizing: border-box;margin-bottom: 0.5em;}#sk-container-id-6 div.sk-estimator:hover {background-color: #d4ebff;}#sk-container-id-6 div.sk-parallel-item::after {content: \"\";width: 100%;border-bottom: 1px solid gray;flex-grow: 1;}#sk-container-id-6 div.sk-label:hover label.sk-toggleable__label {background-color: #d4ebff;}#sk-container-id-6 div.sk-serial::before {content: \"\";position: absolute;border-left: 1px solid gray;box-sizing: border-box;top: 0;bottom: 0;left: 50%;z-index: 0;}#sk-container-id-6 div.sk-serial {display: flex;flex-direction: column;align-items: center;background-color: white;padding-right: 0.2em;padding-left: 0.2em;position: relative;}#sk-container-id-6 div.sk-item {position: relative;z-index: 1;}#sk-container-id-6 div.sk-parallel {display: flex;align-items: stretch;justify-content: center;background-color: white;position: relative;}#sk-container-id-6 div.sk-item::before, #sk-container-id-6 div.sk-parallel-item::before {content: \"\";position: absolute;border-left: 1px solid gray;box-sizing: border-box;top: 0;bottom: 0;left: 50%;z-index: -1;}#sk-container-id-6 div.sk-parallel-item {display: flex;flex-direction: column;z-index: 1;position: relative;background-color: white;}#sk-container-id-6 div.sk-parallel-item:first-child::after {align-self: flex-end;width: 50%;}#sk-container-id-6 div.sk-parallel-item:last-child::after {align-self: flex-start;width: 50%;}#sk-container-id-6 div.sk-parallel-item:only-child::after {width: 0;}#sk-container-id-6 div.sk-dashed-wrapped {border: 1px dashed gray;margin: 0 0.4em 0.5em 0.4em;box-sizing: border-box;padding-bottom: 0.4em;background-color: white;}#sk-container-id-6 div.sk-label label {font-family: monospace;font-weight: bold;display: inline-block;line-height: 1.2em;}#sk-container-id-6 div.sk-label-container {text-align: center;}#sk-container-id-6 div.sk-container {/* jupyter's `normalize.less` sets `[hidden] { display: none; }` but bootstrap.min.css set `[hidden] { display: none !important; }` so we also need the `!important` here to be able to override the default hidden behavior on the sphinx rendered scikit-learn.org. See: https://github.com/scikit-learn/scikit-learn/issues/21755 */display: inline-block !important;position: relative;}#sk-container-id-6 div.sk-text-repr-fallback {display: none;}</style><div id=\"sk-container-id-6\" class=\"sk-top-container\"><div class=\"sk-text-repr-fallback\"><pre>RandomForestClassifier(max_depth=7, n_estimators=200)</pre><b>In a Jupyter environment, please rerun this cell to show the HTML representation or trust the notebook. <br />On GitHub, the HTML representation is unable to render, please try loading this page with nbviewer.org.</b></div><div class=\"sk-container\" hidden><div class=\"sk-item\"><div class=\"sk-estimator sk-toggleable\"><input class=\"sk-toggleable__control sk-hidden--visually\" id=\"sk-estimator-id-10\" type=\"checkbox\" checked><label for=\"sk-estimator-id-10\" class=\"sk-toggleable__label sk-toggleable__label-arrow\">RandomForestClassifier</label><div class=\"sk-toggleable__content\"><pre>RandomForestClassifier(max_depth=7, n_estimators=200)</pre></div></div></div></div></div>"
      ],
      "text/plain": [
       "RandomForestClassifier(max_depth=7, n_estimators=200)"
      ]
     },
     "execution_count": 73,
     "metadata": {},
     "output_type": "execute_result"
    }
   ],
   "source": [
    "print('最佳估计器:')\n",
    "estimator.best_estimator_"
   ]
  },
  {
   "cell_type": "code",
   "execution_count": 74,
   "metadata": {},
   "outputs": [
    {
     "name": "stdout",
     "output_type": "stream",
     "text": [
      "最佳结果（在验证集中的结果）:\n"
     ]
    },
    {
     "data": {
      "text/plain": [
       "0.8384025691494873"
      ]
     },
     "execution_count": 74,
     "metadata": {},
     "output_type": "execute_result"
    }
   ],
   "source": [
    "# 最佳结果\n",
    "print(\"最佳结果（在验证集中的结果）:\")\n",
    "estimator.best_score_"
   ]
  },
  {
   "cell_type": "code",
   "execution_count": 75,
   "metadata": {},
   "outputs": [
    {
     "name": "stdout",
     "output_type": "stream",
     "text": [
      "交叉验证结果:\n"
     ]
    },
    {
     "data": {
      "text/plain": [
       "{'mean_fit_time': array([0.17739692, 0.34190788, 0.52276316, 0.19356222, 0.3651679 ,\n",
       "        0.55871968, 0.20636353, 0.40931096, 0.61622529, 0.21409416,\n",
       "        0.42411098, 0.63211441, 0.21669812, 0.43303847, 0.65533228]),\n",
       " 'std_fit_time': array([0.00628828, 0.01398869, 0.01883095, 0.01380456, 0.00516368,\n",
       "        0.01287501, 0.01531135, 0.01778657, 0.01177518, 0.00420393,\n",
       "        0.00912036, 0.00986825, 0.00359868, 0.00590455, 0.00946853]),\n",
       " 'mean_score_time': array([0.01000729, 0.01880121, 0.02799206, 0.01000443, 0.01900396,\n",
       "        0.02840214, 0.01059651, 0.01986198, 0.03020282, 0.01029825,\n",
       "        0.02001195, 0.02919254, 0.01020269, 0.01999745, 0.02975087]),\n",
       " 'std_score_time': array([1.06181689e-05, 3.91154668e-04, 6.36429098e-04, 5.80410921e-06,\n",
       "        6.23945250e-04, 7.99205499e-04, 8.03631178e-04, 6.96526328e-04,\n",
       "        2.47706872e-03, 5.87121772e-04, 6.34044927e-04, 3.98407636e-04,\n",
       "        3.94866614e-04, 8.33115167e-06, 8.07190448e-04]),\n",
       " 'param_max_depth': masked_array(data=[5, 5, 5, 7, 7, 7, 9, 9, 9, 11, 11, 11, 13, 13, 13],\n",
       "              mask=[False, False, False, False, False, False, False, False,\n",
       "                    False, False, False, False, False, False, False],\n",
       "        fill_value='?',\n",
       "             dtype=object),\n",
       " 'param_n_estimators': masked_array(data=[100, 200, 300, 100, 200, 300, 100, 200, 300, 100, 200,\n",
       "                    300, 100, 200, 300],\n",
       "              mask=[False, False, False, False, False, False, False, False,\n",
       "                    False, False, False, False, False, False, False],\n",
       "        fill_value='?',\n",
       "             dtype=object),\n",
       " 'params': [{'max_depth': 5, 'n_estimators': 100},\n",
       "  {'max_depth': 5, 'n_estimators': 200},\n",
       "  {'max_depth': 5, 'n_estimators': 300},\n",
       "  {'max_depth': 7, 'n_estimators': 100},\n",
       "  {'max_depth': 7, 'n_estimators': 200},\n",
       "  {'max_depth': 7, 'n_estimators': 300},\n",
       "  {'max_depth': 9, 'n_estimators': 100},\n",
       "  {'max_depth': 9, 'n_estimators': 200},\n",
       "  {'max_depth': 9, 'n_estimators': 300},\n",
       "  {'max_depth': 11, 'n_estimators': 100},\n",
       "  {'max_depth': 11, 'n_estimators': 200},\n",
       "  {'max_depth': 11, 'n_estimators': 300},\n",
       "  {'max_depth': 13, 'n_estimators': 100},\n",
       "  {'max_depth': 13, 'n_estimators': 200},\n",
       "  {'max_depth': 13, 'n_estimators': 300}],\n",
       " 'split0_test_score': array([0.83248731, 0.83248731, 0.83756345, 0.82741117, 0.83248731,\n",
       "        0.82741117, 0.82741117, 0.82741117, 0.82233503, 0.81725888,\n",
       "        0.8071066 , 0.79695431, 0.81725888, 0.78680203, 0.79187817]),\n",
       " 'split1_test_score': array([0.82233503, 0.82741117, 0.83248731, 0.82233503, 0.82741117,\n",
       "        0.82233503, 0.81725888, 0.81725888, 0.82233503, 0.81218274,\n",
       "        0.81218274, 0.81218274, 0.80203046, 0.8071066 , 0.80203046]),\n",
       " 'split2_test_score': array([0.85279188, 0.85279188, 0.85279188, 0.85279188, 0.86294416,\n",
       "        0.86294416, 0.85786802, 0.85786802, 0.85786802, 0.84771574,\n",
       "        0.86294416, 0.85786802, 0.84771574, 0.85786802, 0.85279188]),\n",
       " 'split3_test_score': array([0.83756345, 0.83756345, 0.83756345, 0.84263959, 0.84263959,\n",
       "        0.84263959, 0.83756345, 0.83756345, 0.83756345, 0.84263959,\n",
       "        0.82741117, 0.84263959, 0.84263959, 0.82741117, 0.82741117]),\n",
       " 'split4_test_score': array([0.82653061, 0.82653061, 0.82653061, 0.82142857, 0.82653061,\n",
       "        0.82653061, 0.82142857, 0.82653061, 0.82653061, 0.81632653,\n",
       "        0.81632653, 0.81632653, 0.81632653, 0.81122449, 0.81632653]),\n",
       " 'mean_test_score': array([0.83434166, 0.83535688, 0.83738734, 0.83332125, 0.83840257,\n",
       "        0.83637211, 0.83230602, 0.83332643, 0.83332643, 0.8272247 ,\n",
       "        0.82519424, 0.82519424, 0.82519424, 0.81808246, 0.81808764]),\n",
       " 'std_test_score': array([0.01057734, 0.00957204, 0.00870908, 0.01235313, 0.01354243,\n",
       "        0.01496361, 0.01448966, 0.01385339, 0.01347625, 0.01484486,\n",
       "        0.02002533, 0.02198793, 0.01726108, 0.02373134, 0.02116215]),\n",
       " 'rank_test_score': array([ 5,  4,  2,  8,  1,  3,  9,  6,  6, 10, 11, 11, 11, 15, 14])}"
      ]
     },
     "execution_count": 75,
     "metadata": {},
     "output_type": "execute_result"
    }
   ],
   "source": [
    "# 交叉验证结果\n",
    "print(\"交叉验证结果:\")\n",
    "estimator.cv_results_"
   ]
  },
  {
   "cell_type": "markdown",
   "metadata": {},
   "source": [
    "## **回归算法**\n",
    "### **线性回归**\n",
    "\n",
    "相关链接：\n",
    "- 矩阵求导教程：\n",
    "  - [矩阵求导——本质篇](https://zhuanlan.zhihu.com/p/263777564)\n",
    "  - [矩阵求导——基础篇](https://zhuanlan.zhihu.com/p/273729929)\n",
    "  - [矩阵求导——进阶篇](https://zhuanlan.zhihu.com/p/288541909)\n",
    "- 优化算法：使损失函数最小\n",
    "  - [正规方程推导](https://microsoft.github.io/ai-edu/基础教程/A2-神经网络基本原理/第2步%20-%20线性回归/05.1-正规方程法.html)\n",
    "\n",
    "回归模型的评估：用均方误差 MSE  \n",
    "案例：鸢尾花（采用正规方程、梯度下降和岭回归（见下一节）三种方法）"
   ]
  },
  {
   "cell_type": "code",
   "execution_count": 76,
   "metadata": {},
   "outputs": [
    {
     "name": "stdout",
     "output_type": "stream",
     "text": [
      "正规方程权重系数为：\n",
      " [-0.12621744 -0.00799009  0.47503884  0.42350421]\n",
      "正规方程偏置：\n",
      " 0.9732142857142856\n",
      "正规方程均方误差为：\n",
      " 0.052059535821069786\n"
     ]
    }
   ],
   "source": [
    "\"\"\"正规方程\"\"\"\n",
    "from sklearn.datasets import load_iris\n",
    "from sklearn.model_selection import train_test_split\n",
    "from sklearn.preprocessing import StandardScaler\n",
    "from sklearn.linear_model import LinearRegression  # 正规方程\n",
    "from sklearn.metrics import mean_squared_error  # 均方误差\n",
    "\n",
    "# 获取数据\n",
    "iris = load_iris()\n",
    "\n",
    "# 划分数据集\n",
    "x_train, x_test, y_train, y_test = train_test_split(iris.data, iris.target, random_state=22)\n",
    "\n",
    "# 标准化\n",
    "transfer = StandardScaler()\n",
    "x_train = transfer.fit_transform(x_train)\n",
    "x_test = transfer.transform(x_test)\n",
    "\n",
    "# 预估器\n",
    "estimator = LinearRegression(fit_intercept=True)  # fit_intercept: 是否计算偏置，默认为 True\n",
    "estimator.fit(x_train, y_train)\n",
    "\n",
    "# 得出模型\n",
    "print('正规方程权重系数为：\\n', estimator.coef_)\n",
    "print('正规方程偏置：\\n', estimator.intercept_)\n",
    "\n",
    "# 模型评估\n",
    "y_predict = estimator.predict(x_test)\n",
    "error = mean_squared_error(y_test, y_predict)\n",
    "print('正规方程均方误差为：\\n', error)"
   ]
  },
  {
   "cell_type": "code",
   "execution_count": 77,
   "metadata": {},
   "outputs": [
    {
     "name": "stdout",
     "output_type": "stream",
     "text": [
      "梯度下降权重系数为：\n",
      " [-0.08410603 -0.02643641  0.36862316  0.48046782]\n",
      "梯度下降偏置：\n",
      " [0.97395434]\n",
      "梯度下降均方误差为：\n",
      " 0.050916537538350834\n"
     ]
    }
   ],
   "source": [
    "\"\"\"梯度下降\"\"\"\n",
    "from sklearn.datasets import load_iris\n",
    "from sklearn.model_selection import train_test_split\n",
    "from sklearn.preprocessing import StandardScaler\n",
    "from sklearn.linear_model import SGDRegressor  # 梯度下降\n",
    "from sklearn.metrics import mean_squared_error  # 均方误差\n",
    "\n",
    "# 获取数据\n",
    "iris = load_iris()\n",
    "\n",
    "# 划分数据集\n",
    "x_train, x_test, y_train, y_test = train_test_split(iris.data, iris.target, random_state=22)\n",
    "\n",
    "# 标准化\n",
    "transfer = StandardScaler()\n",
    "x_train = transfer.fit_transform(x_train)\n",
    "x_test = transfer.transform(x_test)\n",
    "\n",
    "# 预估器\n",
    "\"\"\"\n",
    "loss:损失类型\n",
    "    loss=”squared_loss”: 普通最小二乘法\n",
    "fit_intercept：是否计算偏置\n",
    "learning_rate : string, optional\n",
    "    学习率填充\n",
    "    'constant': eta = eta0\n",
    "    'optimal': eta = 1.0 / (alpha * (t + t0)) [default]\n",
    "    'invscaling': eta = eta0 / pow(t, power_t)\n",
    "        power_t=0.25:存在父类当中\n",
    "    对于一个常数值的学习率来说，可以使用learning_rate=’constant’ ，并使用eta0来指定学习率。\n",
    "\"\"\"\n",
    "\n",
    "\"\"\"\n",
    "## 以下补充来源于 ChatGPT ##\n",
    "SGDRegressor 构造方法的参数有：\n",
    "1. penalty：惩罚项，可以取值为“none”，“l2”，“l1”，“elasticnet”，分别表示无惩罚项，L2正则化，L1正则化，弹性网络正则化，默认值为“l2”。\n",
    "2. alpha：正则化系数，可以取任意实数值，表示正则化的强度，值越大，正则化的强度越大，默认值为0.0001。\n",
    "3. l1_ratio：弹性网络正则化的参数，可以取任意实数值，表示L1正则化和L2正则化的比例，值越大，L1正则化的比例越大，默认值为0.15。\n",
    "4. fit_intercept：是否计算截距，可以取值为True或False，表示是否计算截距，默认值为True。\n",
    "5. max_iter：最大迭代次数，可以取任意正整数值，表示最大迭代次数，默认值为1000。\n",
    "6. tol：收敛阈值，可以取任意实数值，表示收敛阈值，默认值为1e-3。\n",
    "7. learning_rate：学习率，可以取值为“constant”，“optimal”，“invscaling”，分别表示恒定学习率，最优学习率，反向放缩学习率，默认值为“invscaling”。\n",
    "8. eta0：恒定学习率的参数，可以取任意实数值，表示恒定学习率的参数，默认值为0.01。\n",
    "\"\"\"\n",
    "estimator = SGDRegressor(max_iter=10000, learning_rate='constant', tol=1e-4)\n",
    "estimator.fit(x_train, y_train)\n",
    "\n",
    "# 得出模型\n",
    "print('梯度下降权重系数为：\\n', estimator.coef_)\n",
    "print('梯度下降偏置：\\n', estimator.intercept_)\n",
    "\n",
    "# 模型评估\n",
    "y_predict = estimator.predict(x_test)\n",
    "error = mean_squared_error(y_test, y_predict)\n",
    "print('梯度下降均方误差为：\\n', error)"
   ]
  },
  {
   "cell_type": "markdown",
   "metadata": {},
   "source": [
    "### **岭回归**\n",
    "即：带有 L2 正则化的线性回归\n",
    "\n",
    "关于正则化：损失函数加上 *$\\lambda * $惩罚项*\n",
    "L2正则化 - Ridge回归\n",
    "- 损失函数加上 *$\\Sigma_{j=1}^{n}{w_j^2}$*（n为特征数）\n",
    "- 作用：可以使得其中一些W的都很小，都接近于0，削弱某个特征的影响\n",
    "- 优点：越小的参数说明模型越简单，越简单的模型则越不容易产生过拟合现象\n",
    "\n",
    "L1正则化 - LASSO回归\n",
    "- 损失函数加上 *$\\Sigma_{j=1}^{n}{|w_j|}$*（n为特征数）\n",
    "- 作用：可以使得其中一些W的值直接为0，删除这个特征的影响\n",
    "\n",
    "`Ridge()` 方法相当于 `SGDRegressor(penalty='l2', loss=\"squared_loss\")`,只不过 SGDRegressor 实现了一个普通的随机梯度下降学习，推荐使用 Ridge (实现了SAG)\n"
   ]
  },
  {
   "cell_type": "code",
   "execution_count": 78,
   "metadata": {
    "collapsed": false,
    "jupyter": {
     "outputs_hidden": false
    }
   },
   "outputs": [
    {
     "name": "stdout",
     "output_type": "stream",
     "text": [
      "岭回归权重系数为：\n",
      " [-0.07271988 -0.02847049  0.39441112  0.44234301]\n",
      "岭回归偏置：\n",
      " 0.9732142857142857\n",
      "岭回归均方误差为：\n",
      " 0.05122150112050574\n"
     ]
    }
   ],
   "source": [
    "\"\"\"岭回归 L2正则化\"\"\"\n",
    "from sklearn.datasets import load_iris\n",
    "from sklearn.model_selection import train_test_split\n",
    "from sklearn.preprocessing import StandardScaler\n",
    "from sklearn.linear_model import Ridge  # 岭回归\n",
    "from sklearn.metrics import mean_squared_error  # 均方误差\n",
    "\n",
    "# 获取数据\n",
    "iris = load_iris()\n",
    "\n",
    "# 划分数据集\n",
    "x_train, x_test, y_train, y_test = train_test_split(iris.data, iris.target, random_state=22)\n",
    "\n",
    "# 标准化\n",
    "transfer = StandardScaler()\n",
    "x_train = transfer.fit_transform(x_train)\n",
    "x_test = transfer.transform(x_test)\n",
    "\n",
    "# 预估器\n",
    "\"\"\"\n",
    "## 以下补充来源于 ChatGPT ##\n",
    "Ridge 构造方法的参数有：\n",
    "1. alpha：正则化参数，默认值为1.0，可以取任意正值，表示正则化强度，值越大，正则化强度越大；\n",
    "2. fit_intercept：布尔值，默认值为True，表示是否计算截距；\n",
    "3. normalize：布尔值，默认值为False，表示是否对特征进行标准化处理；\n",
    "4. copy_X：布尔值，默认值为True，表示是否复制输入数据；\n",
    "5. max_iter：整数值，默认值为None，表示最大迭代次数；\n",
    "6. tol：浮点数，默认值为0.001，表示收敛阈值；\n",
    "7. solver：字符串，默认值为“auto”，可以取“auto”、“svd”、“cholesky”、“lsqr”、“sparse_cg”、“sag”、“saga”，表示求解器；\n",
    "    1. auto：自动选择最优求解器；\n",
    "    2. svd：奇异值分解；\n",
    "    3. cholesky：Cholesky 分解；\n",
    "    4. lsqr：最小二乘法；\n",
    "    5. sparse_cg：共轭梯度法；\n",
    "    6. sag：随机平均梯度下降法；\n",
    "    7. saga：随机平均梯度下降法（带核函数）。\n",
    "8. random_state：整数值，默认值为None，表示随机种子；\n",
    "9. selection：字符串，默认值为“cyclic”，可以取“cyclic”、“random”，表示特征选择策略。\n",
    "\"\"\"\n",
    "estimator = Ridge(alpha=2, max_iter=10000, random_state=22)\n",
    "estimator.fit(x_train, y_train)\n",
    "\n",
    "# 得出模型\n",
    "print('岭回归权重系数为：\\n', estimator.coef_)\n",
    "print('岭回归偏置：\\n', estimator.intercept_)\n",
    "\n",
    "# 模型评估\n",
    "y_predict = estimator.predict(x_test)\n",
    "error = mean_squared_error(y_test, y_predict)\n",
    "print('岭回归均方误差为：\\n', error)"
   ]
  }
 ],
 "metadata": {
  "hide_input": false,
  "kernelspec": {
   "display_name": "ipykernel for tensorflow-py38",
   "language": "python",
   "name": "tensorflow-py38"
  },
  "language_info": {
   "codemirror_mode": {
    "name": "ipython",
    "version": 3
   },
   "file_extension": ".py",
   "mimetype": "text/x-python",
   "name": "python",
   "nbconvert_exporter": "python",
   "pygments_lexer": "ipython3",
   "version": "3.8.16"
  },
  "toc": {
   "base_numbering": 1,
   "nav_menu": {},
   "number_sections": true,
   "sideBar": true,
   "skip_h1_title": false,
   "title_cell": "Table of Contents",
   "title_sidebar": "Contents",
   "toc_cell": false,
   "toc_position": {
    "height": "calc(100% - 180px)",
    "left": "10px",
    "top": "150px",
    "width": "230px"
   },
   "toc_section_display": true,
   "toc_window_display": true
  },
  "toc-autonumbering": false,
  "toc-showcode": false,
  "toc-showmarkdowntxt": false,
  "toc-showtags": false
 },
 "nbformat": 4,
 "nbformat_minor": 4
}
